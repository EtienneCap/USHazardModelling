{
 "cells": [
  {
   "cell_type": "code",
   "execution_count": 72,
   "metadata": {},
   "outputs": [],
   "source": [
    "import numpy as np\n",
    "import ftplib\n",
    "from zipfile import ZipFile\n",
    "\n",
    "import os\n",
    "import gzip\n",
    "import shutil\n",
    "import re\n",
    "\n",
    "from tqdm import tqdm"
   ]
  },
  {
   "cell_type": "code",
   "execution_count": 73,
   "metadata": {},
   "outputs": [],
   "source": [
    "# import ftputil\n",
    "\n",
    "# host = \"ftp.ncei.noaa.gov\"\n",
    "# user = 'anonymous'\n",
    "# pw = ''\n",
    "# with ftputil.FTPHost(host, user, pw) as ftphost:\n",
    "#     print(ftphost.listdir(ftphost.curdir))"
   ]
  },
  {
   "cell_type": "code",
   "execution_count": 74,
   "metadata": {},
   "outputs": [],
   "source": [
    "ftp = \"ftp://ftp.ncei.noaa.gov/pub/data/swdi/stormevents/csvfiles/\"\n",
    "hostname = \"ftp.ncei.noaa.gov\"\n",
    "# hostname = \"ftp.ngdc.noaa.gov\"\n",
    "remote_dir = \"pub/data/swdi/stormevents/csvfiles/\"\n",
    "\n",
    "ftp_server = ftplib.FTP(hostname)#, user = \"anonymous\", passwd = hostname)\n",
    "ftp_server.encoding = \"utf-8\"\n"
   ]
  },
  {
   "cell_type": "code",
   "execution_count": 75,
   "metadata": {},
   "outputs": [
    {
     "ename": "error_perm",
     "evalue": "530 Login incorrect.",
     "output_type": "error",
     "traceback": [
      "\u001b[1;31m---------------------------------------------------------------------------\u001b[0m",
      "\u001b[1;31merror_perm\u001b[0m                                Traceback (most recent call last)",
      "Cell \u001b[1;32mIn[75], line 2\u001b[0m\n\u001b[0;32m      1\u001b[0m \u001b[38;5;66;03m# ftp_server.login(user=\"etienne.caprioli@gmail.com\", passwd=\"anonymous\")\u001b[39;00m\n\u001b[1;32m----> 2\u001b[0m ftp_server\u001b[38;5;241m.\u001b[39mlogin()\n\u001b[0;32m      4\u001b[0m ftp_server\u001b[38;5;241m.\u001b[39mnlst()\n",
      "File \u001b[1;32mc:\\Users\\Utilisateur\\anaconda3\\Lib\\ftplib.py:414\u001b[0m, in \u001b[0;36mFTP.login\u001b[1;34m(self, user, passwd, acct)\u001b[0m\n\u001b[0;32m    412\u001b[0m resp \u001b[38;5;241m=\u001b[39m \u001b[38;5;28mself\u001b[39m\u001b[38;5;241m.\u001b[39msendcmd(\u001b[38;5;124m'\u001b[39m\u001b[38;5;124mUSER \u001b[39m\u001b[38;5;124m'\u001b[39m \u001b[38;5;241m+\u001b[39m user)\n\u001b[0;32m    413\u001b[0m \u001b[38;5;28;01mif\u001b[39;00m resp[\u001b[38;5;241m0\u001b[39m] \u001b[38;5;241m==\u001b[39m \u001b[38;5;124m'\u001b[39m\u001b[38;5;124m3\u001b[39m\u001b[38;5;124m'\u001b[39m:\n\u001b[1;32m--> 414\u001b[0m     resp \u001b[38;5;241m=\u001b[39m \u001b[38;5;28mself\u001b[39m\u001b[38;5;241m.\u001b[39msendcmd(\u001b[38;5;124m'\u001b[39m\u001b[38;5;124mPASS \u001b[39m\u001b[38;5;124m'\u001b[39m \u001b[38;5;241m+\u001b[39m passwd)\n\u001b[0;32m    415\u001b[0m \u001b[38;5;28;01mif\u001b[39;00m resp[\u001b[38;5;241m0\u001b[39m] \u001b[38;5;241m==\u001b[39m \u001b[38;5;124m'\u001b[39m\u001b[38;5;124m3\u001b[39m\u001b[38;5;124m'\u001b[39m:\n\u001b[0;32m    416\u001b[0m     resp \u001b[38;5;241m=\u001b[39m \u001b[38;5;28mself\u001b[39m\u001b[38;5;241m.\u001b[39msendcmd(\u001b[38;5;124m'\u001b[39m\u001b[38;5;124mACCT \u001b[39m\u001b[38;5;124m'\u001b[39m \u001b[38;5;241m+\u001b[39m acct)\n",
      "File \u001b[1;32mc:\\Users\\Utilisateur\\anaconda3\\Lib\\ftplib.py:281\u001b[0m, in \u001b[0;36mFTP.sendcmd\u001b[1;34m(self, cmd)\u001b[0m\n\u001b[0;32m    279\u001b[0m \u001b[38;5;250m\u001b[39m\u001b[38;5;124;03m'''Send a command and return the response.'''\u001b[39;00m\n\u001b[0;32m    280\u001b[0m \u001b[38;5;28mself\u001b[39m\u001b[38;5;241m.\u001b[39mputcmd(cmd)\n\u001b[1;32m--> 281\u001b[0m \u001b[38;5;28;01mreturn\u001b[39;00m \u001b[38;5;28mself\u001b[39m\u001b[38;5;241m.\u001b[39mgetresp()\n",
      "File \u001b[1;32mc:\\Users\\Utilisateur\\anaconda3\\Lib\\ftplib.py:254\u001b[0m, in \u001b[0;36mFTP.getresp\u001b[1;34m(self)\u001b[0m\n\u001b[0;32m    252\u001b[0m     \u001b[38;5;28;01mraise\u001b[39;00m error_temp(resp)\n\u001b[0;32m    253\u001b[0m \u001b[38;5;28;01mif\u001b[39;00m c \u001b[38;5;241m==\u001b[39m \u001b[38;5;124m'\u001b[39m\u001b[38;5;124m5\u001b[39m\u001b[38;5;124m'\u001b[39m:\n\u001b[1;32m--> 254\u001b[0m     \u001b[38;5;28;01mraise\u001b[39;00m error_perm(resp)\n\u001b[0;32m    255\u001b[0m \u001b[38;5;28;01mraise\u001b[39;00m error_proto(resp)\n",
      "\u001b[1;31merror_perm\u001b[0m: 530 Login incorrect."
     ]
    }
   ],
   "source": [
    "# ftp_server.login(user=\"etienne.caprioli@gmail.com\", passwd=\"anonymous\")\n",
    "ftp_server.login()\n",
    "\n",
    "ftp_server.nlst()"
   ]
  },
  {
   "cell_type": "code",
   "execution_count": 38,
   "metadata": {},
   "outputs": [
    {
     "ename": "error_perm",
     "evalue": "530 Please login with USER and PASS",
     "output_type": "error",
     "traceback": [
      "\u001b[1;31m---------------------------------------------------------------------------\u001b[0m",
      "\u001b[1;31merror_perm\u001b[0m                                Traceback (most recent call last)",
      "Cell \u001b[1;32mIn[38], line 1\u001b[0m\n\u001b[1;32m----> 1\u001b[0m ftp_server\u001b[38;5;241m.\u001b[39mcwd(\u001b[38;5;124m\"\u001b[39m\u001b[38;5;124m/pub/data/swdi/stormevents/csvfiles/\u001b[39m\u001b[38;5;124m\"\u001b[39m)\n",
      "File \u001b[1;32mc:\\Users\\Utilisateur\\anaconda3\\Lib\\ftplib.py:625\u001b[0m, in \u001b[0;36mFTP.cwd\u001b[1;34m(self, dirname)\u001b[0m\n\u001b[0;32m    623\u001b[0m     dirname \u001b[38;5;241m=\u001b[39m \u001b[38;5;124m'\u001b[39m\u001b[38;5;124m.\u001b[39m\u001b[38;5;124m'\u001b[39m  \u001b[38;5;66;03m# does nothing, but could return error\u001b[39;00m\n\u001b[0;32m    624\u001b[0m cmd \u001b[38;5;241m=\u001b[39m \u001b[38;5;124m'\u001b[39m\u001b[38;5;124mCWD \u001b[39m\u001b[38;5;124m'\u001b[39m \u001b[38;5;241m+\u001b[39m dirname\n\u001b[1;32m--> 625\u001b[0m \u001b[38;5;28;01mreturn\u001b[39;00m \u001b[38;5;28mself\u001b[39m\u001b[38;5;241m.\u001b[39mvoidcmd(cmd)\n",
      "File \u001b[1;32mc:\\Users\\Utilisateur\\anaconda3\\Lib\\ftplib.py:286\u001b[0m, in \u001b[0;36mFTP.voidcmd\u001b[1;34m(self, cmd)\u001b[0m\n\u001b[0;32m    284\u001b[0m \u001b[38;5;250m\u001b[39m\u001b[38;5;124;03m\"\"\"Send a command and expect a response beginning with '2'.\"\"\"\u001b[39;00m\n\u001b[0;32m    285\u001b[0m \u001b[38;5;28mself\u001b[39m\u001b[38;5;241m.\u001b[39mputcmd(cmd)\n\u001b[1;32m--> 286\u001b[0m \u001b[38;5;28;01mreturn\u001b[39;00m \u001b[38;5;28mself\u001b[39m\u001b[38;5;241m.\u001b[39mvoidresp()\n",
      "File \u001b[1;32mc:\\Users\\Utilisateur\\anaconda3\\Lib\\ftplib.py:259\u001b[0m, in \u001b[0;36mFTP.voidresp\u001b[1;34m(self)\u001b[0m\n\u001b[0;32m    257\u001b[0m \u001b[38;5;28;01mdef\u001b[39;00m \u001b[38;5;21mvoidresp\u001b[39m(\u001b[38;5;28mself\u001b[39m):\n\u001b[0;32m    258\u001b[0m \u001b[38;5;250m    \u001b[39m\u001b[38;5;124;03m\"\"\"Expect a response beginning with '2'.\"\"\"\u001b[39;00m\n\u001b[1;32m--> 259\u001b[0m     resp \u001b[38;5;241m=\u001b[39m \u001b[38;5;28mself\u001b[39m\u001b[38;5;241m.\u001b[39mgetresp()\n\u001b[0;32m    260\u001b[0m     \u001b[38;5;28;01mif\u001b[39;00m resp[:\u001b[38;5;241m1\u001b[39m] \u001b[38;5;241m!=\u001b[39m \u001b[38;5;124m'\u001b[39m\u001b[38;5;124m2\u001b[39m\u001b[38;5;124m'\u001b[39m:\n\u001b[0;32m    261\u001b[0m         \u001b[38;5;28;01mraise\u001b[39;00m error_reply(resp)\n",
      "File \u001b[1;32mc:\\Users\\Utilisateur\\anaconda3\\Lib\\ftplib.py:254\u001b[0m, in \u001b[0;36mFTP.getresp\u001b[1;34m(self)\u001b[0m\n\u001b[0;32m    252\u001b[0m     \u001b[38;5;28;01mraise\u001b[39;00m error_temp(resp)\n\u001b[0;32m    253\u001b[0m \u001b[38;5;28;01mif\u001b[39;00m c \u001b[38;5;241m==\u001b[39m \u001b[38;5;124m'\u001b[39m\u001b[38;5;124m5\u001b[39m\u001b[38;5;124m'\u001b[39m:\n\u001b[1;32m--> 254\u001b[0m     \u001b[38;5;28;01mraise\u001b[39;00m error_perm(resp)\n\u001b[0;32m    255\u001b[0m \u001b[38;5;28;01mraise\u001b[39;00m error_proto(resp)\n",
      "\u001b[1;31merror_perm\u001b[0m: 530 Please login with USER and PASS"
     ]
    }
   ],
   "source": [
    "ftp_server.cwd(\"/pub/data/swdi/stormevents/csvfiles/\")"
   ]
  },
  {
   "cell_type": "code",
   "execution_count": 5,
   "metadata": {},
   "outputs": [],
   "source": [
    "files = ftp_server.nlst()"
   ]
  },
  {
   "cell_type": "code",
   "execution_count": 6,
   "metadata": {},
   "outputs": [
    {
     "name": "stdout",
     "output_type": "stream",
     "text": [
      "legacy\n",
      "README\n",
      "Storm-Data-Bulk-csv-Format.pdf\n",
      "StormEvents_details-ftp_v1.0_d2006_c20220425.csv.gz\n",
      "Storm-Data-Export-Format.pdf\n",
      "StormEvents_details-ftp_v1.0_d2014_c20231116.csv.gz\n",
      "StormEvents_details-ftp_v1.0_d1950_c20210803.csv.gz\n",
      "StormEvents_details-ftp_v1.0_d2016_c20220719.csv.gz\n",
      "StormEvents_details-ftp_v1.0_d1951_c20210803.csv.gz\n",
      "StormEvents_fatalities-ftp_v1.0_d1974_c20220425.csv.gz\n",
      "StormEvents_details-ftp_v1.0_d1952_c20210803.csv.gz\n",
      "StormEvents_fatalities-ftp_v1.0_d1973_c20220425.csv.gz\n",
      "StormEvents_details-ftp_v1.0_d1953_c20210803.csv.gz\n",
      "StormEvents_locations-ftp_v1.0_d1973_c20220425.csv.gz\n",
      "StormEvents_details-ftp_v1.0_d1954_c20210803.csv.gz\n",
      "StormEvents_details-ftp_v1.0_d1972_c20220425.csv.gz\n",
      "StormEvents_details-ftp_v1.0_d1955_c20210803.csv.gz\n",
      "StormEvents_fatalities-ftp_v1.0_d1972_c20220425.csv.gz\n",
      "StormEvents_details-ftp_v1.0_d1956_c20210803.csv.gz\n",
      "StormEvents_locations-ftp_v1.0_d1972_c20220425.csv.gz\n",
      "StormEvents_details-ftp_v1.0_d1957_c20210803.csv.gz\n",
      "StormEvents_details-ftp_v1.0_d2022_c20240516.csv.gz\n",
      "StormEvents_details-ftp_v1.0_d1958_c20210803.csv.gz\n",
      "StormEvents_fatalities-ftp_v1.0_d2022_c20240516.csv.gz\n",
      "StormEvents_details-ftp_v1.0_d1959_c20210803.csv.gz\n",
      "StormEvents_locations-ftp_v1.0_d2022_c20240516.csv.gz\n",
      "StormEvents_details-ftp_v1.0_d1960_c20210803.csv.gz\n",
      "StormEvents_details-ftp_v1.0_d2021_c20240418.csv.gz\n",
      "StormEvents_details-ftp_v1.0_d1961_c20210803.csv.gz\n",
      "StormEvents_fatalities-ftp_v1.0_d2021_c20240418.csv.gz\n",
      "StormEvents_details-ftp_v1.0_d1962_c20210803.csv.gz\n",
      "StormEvents_locations-ftp_v1.0_d2021_c20240418.csv.gz\n",
      "StormEvents_details-ftp_v1.0_d1963_c20210803.csv.gz\n",
      "StormEvents_details-ftp_v1.0_d2019_c20240117.csv.gz\n",
      "StormEvents_details-ftp_v1.0_d1964_c20210803.csv.gz\n",
      "StormEvents_fatalities-ftp_v1.0_d2019_c20240117.csv.gz\n",
      "StormEvents_details-ftp_v1.0_d1965_c20210803.csv.gz\n",
      "StormEvents_locations-ftp_v1.0_d2019_c20240117.csv.gz\n",
      "StormEvents_details-ftp_v1.0_d1966_c20210803.csv.gz\n",
      "StormEvents_details-ftp_v1.0_d1994_c20220425.csv.gz\n",
      "StormEvents_details-ftp_v1.0_d1967_c20210803.csv.gz\n",
      "StormEvents_details-ftp_v1.0_d1995_c20220425.csv.gz\n",
      "StormEvents_details-ftp_v1.0_d1968_c20210803.csv.gz\n",
      "StormEvents_details-ftp_v1.0_d1996_c20220425.csv.gz\n",
      "StormEvents_details-ftp_v1.0_d1969_c20210803.csv.gz\n",
      "StormEvents_details-ftp_v1.0_d1997_c20220425.csv.gz\n",
      "StormEvents_details-ftp_v1.0_d1970_c20210803.csv.gz\n",
      "StormEvents_details-ftp_v1.0_d1998_c20220425.csv.gz\n",
      "StormEvents_details-ftp_v1.0_d1971_c20210803.csv.gz\n",
      "StormEvents_details-ftp_v1.0_d1999_c20220425.csv.gz\n",
      "StormEvents_details-ftp_v1.0_d2015_c20220425.csv.gz\n",
      "StormEvents_details-ftp_v1.0_d2000_c20220425.csv.gz\n",
      "StormEvents_details-ftp_v1.0_d2018_c20230616.csv.gz\n",
      "StormEvents_details-ftp_v1.0_d2001_c20220425.csv.gz\n",
      "StormEvents_locations-ftp_v1.0_d1974_c20220425.csv.gz\n",
      "StormEvents_details-ftp_v1.0_d2017_c20230317.csv.gz\n",
      "StormEvents_details-ftp_v1.0_d2002_c20220425.csv.gz\n",
      "StormEvents_details-ftp_v1.0_d1974_c20220425.csv.gz\n",
      "StormEvents_details-ftp_v1.0_d1973_c20220425.csv.gz\n",
      "ugc_areas.csv\n",
      "StormEvents_details-ftp_v1.0_d2008_c20220425.csv.gz\n",
      "StormEvents_details-ftp_v1.0_d1993_c20220425.csv.gz\n",
      "StormEvents_fatalities-ftp_v1.0_d2011_c20230417.csv.gz\n",
      "StormEvents_details-ftp_v1.0_d2005_c20220425.csv.gz\n",
      "StormEvents_fatalities-ftp_v1.0_d2005_c20220425.csv.gz\n",
      "StormEvents_details-ftp_v1.0_d2003_c20220425.csv.gz\n",
      "StormEvents_details-ftp_v1.0_d2007_c20240216.csv.gz\n",
      "StormEvents_details-ftp_v1.0_d2004_c20220425.csv.gz\n",
      "StormEvents_details-ftp_v1.0_d2009_c20231116.csv.gz\n",
      "StormEvents_details-ftp_v1.0_d1992_c20220425.csv.gz\n",
      "StormEvents_details-ftp_v1.0_d2010_c20220425.csv.gz\n",
      "StormEvents_details-ftp_v1.0_d1991_c20220425.csv.gz\n",
      "StormEvents_fatalities-ftp_v1.0_d2012_c20221216.csv.gz\n",
      "StormEvents_details-ftp_v1.0_d2020_c20240418.csv.gz\n",
      "StormEvents_fatalities-ftp_v1.0_d2010_c20220425.csv.gz\n",
      "StormEvents_fatalities-ftp_v1.0_d1950_c20210803.csv.gz\n",
      "StormEvents_fatalities-ftp_v1.0_d1951_c20210803.csv.gz\n",
      "StormEvents_fatalities-ftp_v1.0_d1952_c20210803.csv.gz\n",
      "StormEvents_fatalities-ftp_v1.0_d1953_c20210803.csv.gz\n",
      "StormEvents_fatalities-ftp_v1.0_d1954_c20210803.csv.gz\n",
      "StormEvents_fatalities-ftp_v1.0_d1955_c20210803.csv.gz\n",
      "StormEvents_fatalities-ftp_v1.0_d1956_c20210803.csv.gz\n",
      "StormEvents_fatalities-ftp_v1.0_d1957_c20210803.csv.gz\n",
      "StormEvents_fatalities-ftp_v1.0_d1958_c20210803.csv.gz\n",
      "StormEvents_fatalities-ftp_v1.0_d1959_c20210803.csv.gz\n",
      "StormEvents_fatalities-ftp_v1.0_d1960_c20210803.csv.gz\n",
      "StormEvents_fatalities-ftp_v1.0_d1961_c20210803.csv.gz\n",
      "StormEvents_fatalities-ftp_v1.0_d1962_c20210803.csv.gz\n",
      "StormEvents_fatalities-ftp_v1.0_d1963_c20210803.csv.gz\n",
      "StormEvents_fatalities-ftp_v1.0_d1964_c20210803.csv.gz\n",
      "StormEvents_fatalities-ftp_v1.0_d1965_c20210803.csv.gz\n",
      "StormEvents_fatalities-ftp_v1.0_d1966_c20210803.csv.gz\n",
      "StormEvents_fatalities-ftp_v1.0_d1967_c20210803.csv.gz\n",
      "StormEvents_fatalities-ftp_v1.0_d1968_c20210803.csv.gz\n",
      "StormEvents_fatalities-ftp_v1.0_d1969_c20210803.csv.gz\n",
      "StormEvents_fatalities-ftp_v1.0_d1970_c20210803.csv.gz\n",
      "StormEvents_fatalities-ftp_v1.0_d1971_c20210803.csv.gz\n",
      "StormEvents_fatalities-ftp_v1.0_d2018_c20230616.csv.gz\n",
      "StormEvents_locations-ftp_v1.0_d2018_c20230616.csv.gz\n",
      "StormEvents_fatalities-ftp_v1.0_d2017_c20230317.csv.gz\n",
      "StormEvents_locations-ftp_v1.0_d2017_c20230317.csv.gz\n",
      "StormEvents_fatalities-ftp_v1.0_d2016_c20220719.csv.gz\n",
      "StormEvents_locations-ftp_v1.0_d2016_c20220719.csv.gz\n",
      "StormEvents_fatalities-ftp_v1.0_d2015_c20220425.csv.gz\n",
      "StormEvents_locations-ftp_v1.0_d2015_c20220425.csv.gz\n",
      "StormEvents_fatalities-ftp_v1.0_d2014_c20231116.csv.gz\n",
      "StormEvents_locations-ftp_v1.0_d2014_c20231116.csv.gz\n",
      "StormEvents_details-ftp_v1.0_d2023_c20240516.csv.gz\n",
      "StormEvents_details-ftp_v1.0_d2013_c20230118.csv.gz\n",
      "StormEvents_fatalities-ftp_v1.0_d2013_c20230118.csv.gz\n",
      "StormEvents_locations-ftp_v1.0_d2013_c20230118.csv.gz\n",
      "StormEvents_details-ftp_v1.0_d2012_c20221216.csv.gz\n",
      "StormEvents_locations-ftp_v1.0_d2012_c20221216.csv.gz\n",
      "StormEvents_details-ftp_v1.0_d2011_c20230417.csv.gz\n",
      "StormEvents_locations-ftp_v1.0_d2010_c20220425.csv.gz\n",
      "StormEvents_fatalities-ftp_v1.0_d1985_c20220425.csv.gz\n",
      "StormEvents_locations-ftp_v1.0_d1985_c20220425.csv.gz\n",
      "StormEvents_details-ftp_v1.0_d1984_c20220425.csv.gz\n",
      "StormEvents_fatalities-ftp_v1.0_d1984_c20220425.csv.gz\n",
      "StormEvents_locations-ftp_v1.0_d1984_c20220425.csv.gz\n",
      "StormEvents_details-ftp_v1.0_d1983_c20220425.csv.gz\n",
      "StormEvents_fatalities-ftp_v1.0_d1983_c20220425.csv.gz\n",
      "StormEvents_locations-ftp_v1.0_d1983_c20220425.csv.gz\n",
      "StormEvents_details-ftp_v1.0_d1982_c20220425.csv.gz\n",
      "StormEvents_fatalities-ftp_v1.0_d1982_c20220425.csv.gz\n",
      "StormEvents_locations-ftp_v1.0_d1982_c20220425.csv.gz\n",
      "StormEvents_details-ftp_v1.0_d1981_c20220425.csv.gz\n",
      "StormEvents_fatalities-ftp_v1.0_d1981_c20220425.csv.gz\n",
      "StormEvents_locations-ftp_v1.0_d1981_c20220425.csv.gz\n",
      "StormEvents_details-ftp_v1.0_d1980_c20220425.csv.gz\n",
      "StormEvents_fatalities-ftp_v1.0_d1980_c20220425.csv.gz\n",
      "StormEvents_locations-ftp_v1.0_d1980_c20220425.csv.gz\n",
      "StormEvents_details-ftp_v1.0_d1979_c20220425.csv.gz\n",
      "StormEvents_fatalities-ftp_v1.0_d1979_c20220425.csv.gz\n",
      "StormEvents_locations-ftp_v1.0_d1979_c20220425.csv.gz\n",
      "StormEvents_details-ftp_v1.0_d1978_c20220425.csv.gz\n",
      "StormEvents_fatalities-ftp_v1.0_d1978_c20220425.csv.gz\n",
      "StormEvents_locations-ftp_v1.0_d1978_c20220425.csv.gz\n",
      "StormEvents_details-ftp_v1.0_d1977_c20220425.csv.gz\n",
      "StormEvents_fatalities-ftp_v1.0_d1977_c20220425.csv.gz\n",
      "StormEvents_locations-ftp_v1.0_d1977_c20220425.csv.gz\n",
      "StormEvents_details-ftp_v1.0_d1976_c20220425.csv.gz\n",
      "StormEvents_fatalities-ftp_v1.0_d1976_c20220425.csv.gz\n",
      "StormEvents_locations-ftp_v1.0_d1976_c20220425.csv.gz\n",
      "StormEvents_details-ftp_v1.0_d1975_c20220425.csv.gz\n",
      "StormEvents_fatalities-ftp_v1.0_d1975_c20220425.csv.gz\n",
      "StormEvents_locations-ftp_v1.0_d1975_c20220425.csv.gz\n",
      "StormEvents_locations-ftp_v1.0_d2011_c20230417.csv.gz\n",
      "StormEvents_locations-ftp_v1.0_d2007_c20240216.csv.gz\n",
      "StormEvents_locations-ftp_v1.0_d2023_c20240516.csv.gz\n",
      "StormEvents_fatalities-ftp_v1.0_d2009_c20231116.csv.gz\n",
      "StormEvents_locations-ftp_v1.0_d2009_c20231116.csv.gz\n",
      "StormEvents_fatalities-ftp_v1.0_d2020_c20240418.csv.gz\n",
      "StormEvents_locations-ftp_v1.0_d2020_c20240418.csv.gz\n",
      "StormEvents_details-ftp_v1.0_d2024_c20240516.csv.gz\n",
      "StormEvents_fatalities-ftp_v1.0_d2024_c20240516.csv.gz\n",
      "StormEvents_fatalities-ftp_v1.0_d2007_c20240216.csv.gz\n",
      "StormEvents_fatalities-ftp_v1.0_d2023_c20240516.csv.gz\n",
      "StormEvents_locations-ftp_v1.0_d2024_c20240516.csv.gz\n",
      "StormEvents_fatalities-ftp_v1.0_d2008_c20220425.csv.gz\n",
      "StormEvents_locations-ftp_v1.0_d2008_c20220425.csv.gz\n",
      "StormEvents_fatalities-ftp_v1.0_d2006_c20220425.csv.gz\n",
      "StormEvents_locations-ftp_v1.0_d2006_c20220425.csv.gz\n",
      "StormEvents_locations-ftp_v1.0_d2005_c20220425.csv.gz\n",
      "StormEvents_fatalities-ftp_v1.0_d2004_c20220425.csv.gz\n",
      "StormEvents_locations-ftp_v1.0_d2004_c20220425.csv.gz\n",
      "StormEvents_fatalities-ftp_v1.0_d2003_c20220425.csv.gz\n",
      "StormEvents_locations-ftp_v1.0_d2003_c20220425.csv.gz\n",
      "StormEvents_fatalities-ftp_v1.0_d2002_c20220425.csv.gz\n",
      "StormEvents_locations-ftp_v1.0_d2002_c20220425.csv.gz\n",
      "StormEvents_fatalities-ftp_v1.0_d2001_c20220425.csv.gz\n",
      "StormEvents_locations-ftp_v1.0_d2001_c20220425.csv.gz\n",
      "StormEvents_fatalities-ftp_v1.0_d2000_c20220425.csv.gz\n",
      "StormEvents_locations-ftp_v1.0_d2000_c20220425.csv.gz\n",
      "StormEvents_fatalities-ftp_v1.0_d1999_c20220425.csv.gz\n",
      "StormEvents_locations-ftp_v1.0_d1999_c20220425.csv.gz\n",
      "StormEvents_fatalities-ftp_v1.0_d1998_c20220425.csv.gz\n",
      "StormEvents_locations-ftp_v1.0_d1998_c20220425.csv.gz\n",
      "StormEvents_fatalities-ftp_v1.0_d1997_c20220425.csv.gz\n",
      "StormEvents_locations-ftp_v1.0_d1997_c20220425.csv.gz\n",
      "StormEvents_fatalities-ftp_v1.0_d1996_c20220425.csv.gz\n",
      "StormEvents_locations-ftp_v1.0_d1996_c20220425.csv.gz\n",
      "StormEvents_fatalities-ftp_v1.0_d1995_c20220425.csv.gz\n",
      "StormEvents_locations-ftp_v1.0_d1995_c20220425.csv.gz\n",
      "StormEvents_fatalities-ftp_v1.0_d1994_c20220425.csv.gz\n",
      "StormEvents_locations-ftp_v1.0_d1994_c20220425.csv.gz\n",
      "StormEvents_fatalities-ftp_v1.0_d1993_c20220425.csv.gz\n",
      "StormEvents_locations-ftp_v1.0_d1993_c20220425.csv.gz\n",
      "StormEvents_fatalities-ftp_v1.0_d1992_c20220425.csv.gz\n",
      "StormEvents_locations-ftp_v1.0_d1992_c20220425.csv.gz\n",
      "StormEvents_fatalities-ftp_v1.0_d1991_c20220425.csv.gz\n",
      "StormEvents_locations-ftp_v1.0_d1991_c20220425.csv.gz\n",
      "StormEvents_fatalities-ftp_v1.0_d1990_c20220425.csv.gz\n",
      "StormEvents_details-ftp_v1.0_d1989_c20220425.csv.gz\n",
      "StormEvents_locations-ftp_v1.0_d1989_c20220425.csv.gz\n",
      "StormEvents_fatalities-ftp_v1.0_d1988_c20220425.csv.gz\n",
      "StormEvents_details-ftp_v1.0_d1987_c20220425.csv.gz\n",
      "StormEvents_locations-ftp_v1.0_d1987_c20220425.csv.gz\n",
      "StormEvents_fatalities-ftp_v1.0_d1986_c20220425.csv.gz\n",
      "StormEvents_details-ftp_v1.0_d1985_c20220425.csv.gz\n",
      "StormEvents_details-ftp_v1.0_d1990_c20220425.csv.gz\n",
      "StormEvents_locations-ftp_v1.0_d1990_c20220425.csv.gz\n",
      "StormEvents_fatalities-ftp_v1.0_d1989_c20220425.csv.gz\n",
      "StormEvents_details-ftp_v1.0_d1988_c20220425.csv.gz\n",
      "StormEvents_locations-ftp_v1.0_d1988_c20220425.csv.gz\n",
      "StormEvents_fatalities-ftp_v1.0_d1987_c20220425.csv.gz\n",
      "StormEvents_details-ftp_v1.0_d1986_c20220425.csv.gz\n",
      "StormEvents_locations-ftp_v1.0_d1986_c20220425.csv.gz\n"
     ]
    }
   ],
   "source": [
    "for file in files:\n",
    "    print(file)"
   ]
  },
  {
   "cell_type": "code",
   "execution_count": 7,
   "metadata": {},
   "outputs": [
    {
     "data": {
      "text/plain": [
       "'StormEvents_details-ftp_v1.0_d1950_c20210803.csv.gz'"
      ]
     },
     "execution_count": 7,
     "metadata": {},
     "output_type": "execute_result"
    }
   ],
   "source": [
    "files[6]"
   ]
  },
  {
   "cell_type": "code",
   "execution_count": 7,
   "metadata": {},
   "outputs": [
    {
     "name": "stderr",
     "output_type": "stream",
     "text": [
      "100%|██████████| 208/208 [08:36<00:00,  2.49s/it]\n"
     ]
    }
   ],
   "source": [
    "for file in tqdm(files):\n",
    "    if file != \"legacy\":\n",
    "        # print(file)\n",
    "        ftp_server.retrbinary('RETR {}'.format(file), open(\"./NOAA_Storm_events_dataset_zip/{}\".format(file), \"wb\").write)\n",
    "        if \".gz\" in file:\n",
    "            with gzip.open(\"./NOAA_Storm_events_dataset_zip/{}\".format(file), 'rb') as file_in:\n",
    "                with open(re.sub(\".gz\", \"\", \"./NOAA_Storm_events_dataset/{}\".format(file)), 'wb') as file_out:\n",
    "                    shutil.copyfileobj(file_in, file_out)\n",
    "        else:\n",
    "            with open(\"./NOAA_Storm_events_dataset_zip/{}\".format(file), 'rb') as file_in:\n",
    "                with open(re.sub(\".gz\", \"\", \"./NOAA_Storm_events_dataset/{}\".format(file)), 'wb') as file_out:\n",
    "                    shutil.copyfileobj(file_in, file_out)\n",
    "        os.remove(\"./NOAA_Storm_events_dataset_zip/{}\".format(file))\n",
    "\n"
   ]
  },
  {
   "cell_type": "code",
   "execution_count": 50,
   "metadata": {},
   "outputs": [
    {
     "data": {
      "text/plain": [
       "'221 Goodbye.'"
      ]
     },
     "execution_count": 50,
     "metadata": {},
     "output_type": "execute_result"
    }
   ],
   "source": [
    "ftp_server.quit()"
   ]
  },
  {
   "cell_type": "code",
   "execution_count": 14,
   "metadata": {},
   "outputs": [
    {
     "data": {
      "text/plain": [
       "('file.pdf', <http.client.HTTPMessage at 0x279647e1c10>)"
      ]
     },
     "execution_count": 14,
     "metadata": {},
     "output_type": "execute_result"
    }
   ],
   "source": [
    "import urllib.request\n",
    "urllib.request.urlretrieve(\"https://www.ncei.noaa.gov/pub/data/swdi/stormevents/csvfiles/Storm-Data-Bulk-csv-Format.pdf\", \"file.pdf\")"
   ]
  },
  {
   "cell_type": "code",
   "execution_count": 62,
   "metadata": {},
   "outputs": [
    {
     "data": {
      "text/plain": [
       "b'<!DOCTYPE HTML PUBLIC \"-//W3C//DTD HTML 3.2 Final//EN\">\\n<html>\\n <head>\\n  <title>Index of /pub/data/swdi/stormevents/csvfiles</title>\\n </head>\\n <body>\\n<h1>Index of /pub/data/swdi/stormevents/csvfiles</h1>\\n  <table>\\n   <tr><th><a href=\"?C=N;O=D\">Name</a></th><th><a href=\"?C=M;O=A\">Last modified</a></th><th><a href=\"?C=S;O=A\">Size</a></th><th><a href=\"?C=D;O=A\">Description</a></th></tr>\\n   <tr><th colspan=\"4\"><hr></th></tr>\\n<tr><td><a href=\"/pub/data/swdi/stormevents/\">Parent Directory</a></td><td>&nbsp;</td><td align=\"right\">  - </td><td>&nbsp;</td></tr>\\n<tr><td><a href=\"Storm-Data-Bulk-csv-Format.pdf\">Storm-Data-Bulk-csv-Format.pdf</a></td><td align=\"right\">2020-07-17 13:10  </td><td align=\"right\">161K</td><td>&nbsp;</td></tr>\\n<tr><td><a href=\"Storm-Data-Export-Format.pdf\">Storm-Data-Export-Format.pdf</a></td><td align=\"right\">2020-07-17 09:17  </td><td align=\"right\">163K</td><td>&nbsp;</td></tr>\\n<tr><td><a href=\"StormEvents_details-ftp_v1.0_d1950_c20210803.csv.gz\">StormEvents_details-ftp_v1.0_d1950_c20210803.csv.gz</a></td><td align=\"right\">2021-08-05 09:53  </td><td align=\"right\"> 10K</td><td>&nbsp;</td></tr>\\n<tr><td><a href=\"StormEvents_details-ftp_v1.0_d1951_c20210803.csv.gz\">StormEvents_details-ftp_v1.0_d1951_c20210803.csv.gz</a></td><td align=\"right\">2021-08-05 09:56  </td><td align=\"right\"> 12K</td><td>&nbsp;</td></tr>\\n<tr><td><a href=\"StormEvents_details-ftp_v1.0_d1952_c20210803.csv.gz\">StormEvents_details-ftp_v1.0_d1952_c20210803.csv.gz</a></td><td align=\"right\">2021-08-05 09:56  </td><td align=\"right\"> 12K</td><td>&nbsp;</td></tr>\\n<tr><td><a href=\"StormEvents_details-ftp_v1.0_d1953_c20210803.csv.gz\">StormEvents_details-ftp_v1.0_d1953_c20210803.csv.gz</a></td><td align=\"right\">2021-08-05 09:56  </td><td align=\"right\"> 21K</td><td>&nbsp;</td></tr>\\n<tr><td><a href=\"StormEvents_details-ftp_v1.0_d1954_c20210803.csv.gz\">StormEvents_details-ftp_v1.0_d1954_c20210803.csv.gz</a></td><td align=\"right\">2021-08-05 09:56  </td><td align=\"right\"> 26K</td><td>&nbsp;</td></tr>\\n<tr><td><a href=\"StormEvents_details-ftp_v1.0_d1955_c20210803.csv.gz\">StormEvents_details-ftp_v1.0_d1955_c20210803.csv.gz</a></td><td align=\"right\">2021-08-05 09:56  </td><td align=\"right\"> 52K</td><td>&nbsp;</td></tr>\\n<tr><td><a href=\"StormEvents_details-ftp_v1.0_d1956_c20210803.csv.gz\">StormEvents_details-ftp_v1.0_d1956_c20210803.csv.gz</a></td><td align=\"right\">2021-08-05 09:56  </td><td align=\"right\"> 62K</td><td>&nbsp;</td></tr>\\n<tr><td><a href=\"StormEvents_details-ftp_v1.0_d1957_c20210803.csv.gz\">StormEvents_details-ftp_v1.0_d1957_c20210803.csv.gz</a></td><td align=\"right\">2021-08-05 09:56  </td><td align=\"right\"> 80K</td><td>&nbsp;</td></tr>\\n<tr><td><a href=\"StormEvents_details-ftp_v1.0_d1958_c20210803.csv.gz\">StormEvents_details-ftp_v1.0_d1958_c20210803.csv.gz</a></td><td align=\"right\">2021-08-05 09:56  </td><td align=\"right\"> 69K</td><td>&nbsp;</td></tr>\\n<tr><td><a href=\"StormEvents_details-ftp_v1.0_d1959_c20210803.csv.gz\">StormEvents_details-ftp_v1.0_d1959_c20210803.csv.gz</a></td><td align=\"right\">2021-08-05 09:56  </td><td align=\"right\"> 66K</td><td>&nbsp;</td></tr>\\n<tr><td><a href=\"StormEvents_details-ftp_v1.0_d1960_c20210803.csv.gz\">StormEvents_details-ftp_v1.0_d1960_c20210803.csv.gz</a></td><td align=\"right\">2021-08-05 09:56  </td><td align=\"right\"> 70K</td><td>&nbsp;</td></tr>\\n<tr><td><a href=\"StormEvents_details-ftp_v1.0_d1961_c20210803.csv.gz\">StormEvents_details-ftp_v1.0_d1961_c20210803.csv.gz</a></td><td align=\"right\">2021-08-05 09:56  </td><td align=\"right\"> 81K</td><td>&nbsp;</td></tr>\\n<tr><td><a href=\"StormEvents_details-ftp_v1.0_d1962_c20210803.csv.gz\">StormEvents_details-ftp_v1.0_d1962_c20210803.csv.gz</a></td><td align=\"right\">2021-08-05 09:56  </td><td align=\"right\"> 83K</td><td>&nbsp;</td></tr>\\n<tr><td><a href=\"StormEvents_details-ftp_v1.0_d1963_c20210803.csv.gz\">StormEvents_details-ftp_v1.0_d1963_c20210803.csv.gz</a></td><td align=\"right\">2021-08-05 09:56  </td><td align=\"right\"> 70K</td><td>&nbsp;</td></tr>\\n<tr><td><a href=\"StormEvents_details-ftp_v1.0_d1964_c20210803.csv.gz\">StormEvents_details-ftp_v1.0_d1964_c20210803.csv.gz</a></td><td align=\"right\">2021-08-05 09:56  </td><td align=\"right\"> 84K</td><td>&nbsp;</td></tr>\\n<tr><td><a href=\"StormEvents_details-ftp_v1.0_d1965_c20210803.csv.gz\">StormEvents_details-ftp_v1.0_d1965_c20210803.csv.gz</a></td><td align=\"right\">2021-08-05 09:56  </td><td align=\"right\">102K</td><td>&nbsp;</td></tr>\\n<tr><td><a href=\"StormEvents_details-ftp_v1.0_d1966_c20210803.csv.gz\">StormEvents_details-ftp_v1.0_d1966_c20210803.csv.gz</a></td><td align=\"right\">2021-08-05 09:56  </td><td align=\"right\"> 81K</td><td>&nbsp;</td></tr>\\n<tr><td><a href=\"StormEvents_details-ftp_v1.0_d1967_c20210803.csv.gz\">StormEvents_details-ftp_v1.0_d1967_c20210803.csv.gz</a></td><td align=\"right\">2021-08-05 09:56  </td><td align=\"right\"> 95K</td><td>&nbsp;</td></tr>\\n<tr><td><a href=\"StormEvents_details-ftp_v1.0_d1968_c20210803.csv.gz\">StormEvents_details-ftp_v1.0_d1968_c20210803.csv.gz</a></td><td align=\"right\">2021-08-05 09:56  </td><td align=\"right\">112K</td><td>&nbsp;</td></tr>\\n<tr><td><a href=\"StormEvents_details-ftp_v1.0_d1969_c20210803.csv.gz\">StormEvents_details-ftp_v1.0_d1969_c20210803.csv.gz</a></td><td align=\"right\">2021-08-05 09:56  </td><td align=\"right\">100K</td><td>&nbsp;</td></tr>\\n<tr><td><a href=\"StormEvents_details-ftp_v1.0_d1970_c20210803.csv.gz\">StormEvents_details-ftp_v1.0_d1970_c20210803.csv.gz</a></td><td align=\"right\">2021-08-05 09:56  </td><td align=\"right\">112K</td><td>&nbsp;</td></tr>\\n<tr><td><a href=\"StormEvents_details-ftp_v1.0_d1971_c20210803.csv.gz\">StormEvents_details-ftp_v1.0_d1971_c20210803.csv.gz</a></td><td align=\"right\">2021-08-05 09:56  </td><td align=\"right\">123K</td><td>&nbsp;</td></tr>\\n<tr><td><a href=\"StormEvents_details-ftp_v1.0_d1972_c20220425.csv.gz\">StormEvents_details-ftp_v1.0_d1972_c20220425.csv.gz</a></td><td align=\"right\">2022-04-25 15:06  </td><td align=\"right\"> 80K</td><td>&nbsp;</td></tr>\\n<tr><td><a href=\"StormEvents_details-ftp_v1.0_d1973_c20220425.csv.gz\">StormEvents_details-ftp_v1.0_d1973_c20220425.csv.gz</a></td><td align=\"right\">2022-04-25 15:06  </td><td align=\"right\">157K</td><td>&nbsp;</td></tr>\\n<tr><td><a href=\"StormEvents_details-ftp_v1.0_d1974_c20220425.csv.gz\">StormEvents_details-ftp_v1.0_d1974_c20220425.csv.gz</a></td><td align=\"right\">2022-04-25 15:06  </td><td align=\"right\">183K</td><td>&nbsp;</td></tr>\\n<tr><td><a href=\"StormEvents_details-ftp_v1.0_d1975_c20220425.csv.gz\">StormEvents_details-ftp_v1.0_d1975_c20220425.csv.gz</a></td><td align=\"right\">2022-04-25 15:06  </td><td align=\"right\">172K</td><td>&nbsp;</td></tr>\\n<tr><td><a href=\"StormEvents_details-ftp_v1.0_d1976_c20220425.csv.gz\">StormEvents_details-ftp_v1.0_d1976_c20220425.csv.gz</a></td><td align=\"right\">2022-04-25 15:06  </td><td align=\"right\">133K</td><td>&nbsp;</td></tr>\\n<tr><td><a href=\"StormEvents_details-ftp_v1.0_d1977_c20220425.csv.gz\">StormEvents_details-ftp_v1.0_d1977_c20220425.csv.gz</a></td><td align=\"right\">2022-04-25 15:06  </td><td align=\"right\">137K</td><td>&nbsp;</td></tr>\\n<tr><td><a href=\"StormEvents_details-ftp_v1.0_d1978_c20220425.csv.gz\">StormEvents_details-ftp_v1.0_d1978_c20220425.csv.gz</a></td><td align=\"right\">2022-04-25 15:06  </td><td align=\"right\">133K</td><td>&nbsp;</td></tr>\\n<tr><td><a href=\"StormEvents_details-ftp_v1.0_d1979_c20220425.csv.gz\">StormEvents_details-ftp_v1.0_d1979_c20220425.csv.gz</a></td><td align=\"right\">2022-04-25 15:06  </td><td align=\"right\">151K</td><td>&nbsp;</td></tr>\\n<tr><td><a href=\"StormEvents_details-ftp_v1.0_d1980_c20220425.csv.gz\">StormEvents_details-ftp_v1.0_d1980_c20220425.csv.gz</a></td><td align=\"right\">2022-04-25 15:06  </td><td align=\"right\">211K</td><td>&nbsp;</td></tr>\\n<tr><td><a href=\"StormEvents_details-ftp_v1.0_d1981_c20220425.csv.gz\">StormEvents_details-ftp_v1.0_d1981_c20220425.csv.gz</a></td><td align=\"right\">2022-04-25 15:06  </td><td align=\"right\">159K</td><td>&nbsp;</td></tr>\\n<tr><td><a href=\"StormEvents_details-ftp_v1.0_d1982_c20220425.csv.gz\">StormEvents_details-ftp_v1.0_d1982_c20220425.csv.gz</a></td><td align=\"right\">2022-04-25 15:06  </td><td align=\"right\">240K</td><td>&nbsp;</td></tr>\\n<tr><td><a href=\"StormEvents_details-ftp_v1.0_d1983_c20220425.csv.gz\">StormEvents_details-ftp_v1.0_d1983_c20220425.csv.gz</a></td><td align=\"right\">2022-04-25 15:06  </td><td align=\"right\">270K</td><td>&nbsp;</td></tr>\\n<tr><td><a href=\"StormEvents_details-ftp_v1.0_d1984_c20220425.csv.gz\">StormEvents_details-ftp_v1.0_d1984_c20220425.csv.gz</a></td><td align=\"right\">2022-04-25 15:06  </td><td align=\"right\">248K</td><td>&nbsp;</td></tr>\\n<tr><td><a href=\"StormEvents_details-ftp_v1.0_d1985_c20220425.csv.gz\">StormEvents_details-ftp_v1.0_d1985_c20220425.csv.gz</a></td><td align=\"right\">2022-04-25 15:06  </td><td align=\"right\">263K</td><td>&nbsp;</td></tr>\\n<tr><td><a href=\"StormEvents_details-ftp_v1.0_d1986_c20220425.csv.gz\">StormEvents_details-ftp_v1.0_d1986_c20220425.csv.gz</a></td><td align=\"right\">2022-04-25 15:06  </td><td align=\"right\">291K</td><td>&nbsp;</td></tr>\\n<tr><td><a href=\"StormEvents_details-ftp_v1.0_d1987_c20220425.csv.gz\">StormEvents_details-ftp_v1.0_d1987_c20220425.csv.gz</a></td><td align=\"right\">2022-04-25 15:06  </td><td align=\"right\">249K</td><td>&nbsp;</td></tr>\\n<tr><td><a href=\"StormEvents_details-ftp_v1.0_d1988_c20220425.csv.gz\">StormEvents_details-ftp_v1.0_d1988_c20220425.csv.gz</a></td><td align=\"right\">2022-04-25 15:06  </td><td align=\"right\">250K</td><td>&nbsp;</td></tr>\\n<tr><td><a href=\"StormEvents_details-ftp_v1.0_d1989_c20220425.csv.gz\">StormEvents_details-ftp_v1.0_d1989_c20220425.csv.gz</a></td><td align=\"right\">2022-04-25 15:06  </td><td align=\"right\">348K</td><td>&nbsp;</td></tr>\\n<tr><td><a href=\"StormEvents_details-ftp_v1.0_d1990_c20220425.csv.gz\">StormEvents_details-ftp_v1.0_d1990_c20220425.csv.gz</a></td><td align=\"right\">2022-04-25 15:06  </td><td align=\"right\">377K</td><td>&nbsp;</td></tr>\\n<tr><td><a href=\"StormEvents_details-ftp_v1.0_d1991_c20220425.csv.gz\">StormEvents_details-ftp_v1.0_d1991_c20220425.csv.gz</a></td><td align=\"right\">2022-04-25 15:06  </td><td align=\"right\">426K</td><td>&nbsp;</td></tr>\\n<tr><td><a href=\"StormEvents_details-ftp_v1.0_d1992_c20220425.csv.gz\">StormEvents_details-ftp_v1.0_d1992_c20220425.csv.gz</a></td><td align=\"right\">2022-04-25 15:06  </td><td align=\"right\">468K</td><td>&nbsp;</td></tr>\\n<tr><td><a href=\"StormEvents_details-ftp_v1.0_d1993_c20220425.csv.gz\">StormEvents_details-ftp_v1.0_d1993_c20220425.csv.gz</a></td><td align=\"right\">2022-04-25 15:06  </td><td align=\"right\">550K</td><td>&nbsp;</td></tr>\\n<tr><td><a href=\"StormEvents_details-ftp_v1.0_d1994_c20220425.csv.gz\">StormEvents_details-ftp_v1.0_d1994_c20220425.csv.gz</a></td><td align=\"right\">2022-04-25 15:06  </td><td align=\"right\">1.0M</td><td>&nbsp;</td></tr>\\n<tr><td><a href=\"StormEvents_details-ftp_v1.0_d1995_c20220425.csv.gz\">StormEvents_details-ftp_v1.0_d1995_c20220425.csv.gz</a></td><td align=\"right\">2022-04-25 15:06  </td><td align=\"right\">1.3M</td><td>&nbsp;</td></tr>\\n<tr><td><a href=\"StormEvents_details-ftp_v1.0_d1996_c20220425.csv.gz\">StormEvents_details-ftp_v1.0_d1996_c20220425.csv.gz</a></td><td align=\"right\">2022-04-25 15:06  </td><td align=\"right\">6.0M</td><td>&nbsp;</td></tr>\\n<tr><td><a href=\"StormEvents_details-ftp_v1.0_d1997_c20220425.csv.gz\">StormEvents_details-ftp_v1.0_d1997_c20220425.csv.gz</a></td><td align=\"right\">2022-04-25 15:06  </td><td align=\"right\">6.3M</td><td>&nbsp;</td></tr>\\n<tr><td><a href=\"StormEvents_details-ftp_v1.0_d1998_c20220425.csv.gz\">StormEvents_details-ftp_v1.0_d1998_c20220425.csv.gz</a></td><td align=\"right\">2022-04-25 15:06  </td><td align=\"right\">9.8M</td><td>&nbsp;</td></tr>\\n<tr><td><a href=\"StormEvents_details-ftp_v1.0_d1999_c20220425.csv.gz\">StormEvents_details-ftp_v1.0_d1999_c20220425.csv.gz</a></td><td align=\"right\">2022-04-25 15:06  </td><td align=\"right\">9.9M</td><td>&nbsp;</td></tr>\\n<tr><td><a href=\"StormEvents_details-ftp_v1.0_d2000_c20220425.csv.gz\">StormEvents_details-ftp_v1.0_d2000_c20220425.csv.gz</a></td><td align=\"right\">2022-04-25 15:06  </td><td align=\"right\">7.5M</td><td>&nbsp;</td></tr>\\n<tr><td><a href=\"StormEvents_details-ftp_v1.0_d2001_c20220425.csv.gz\">StormEvents_details-ftp_v1.0_d2001_c20220425.csv.gz</a></td><td align=\"right\">2022-04-25 15:06  </td><td align=\"right\">6.6M</td><td>&nbsp;</td></tr>\\n<tr><td><a href=\"StormEvents_details-ftp_v1.0_d2002_c20220425.csv.gz\">StormEvents_details-ftp_v1.0_d2002_c20220425.csv.gz</a></td><td align=\"right\">2022-04-25 15:06  </td><td align=\"right\">6.9M</td><td>&nbsp;</td></tr>\\n<tr><td><a href=\"StormEvents_details-ftp_v1.0_d2003_c20220425.csv.gz\">StormEvents_details-ftp_v1.0_d2003_c20220425.csv.gz</a></td><td align=\"right\">2022-04-25 15:05  </td><td align=\"right\">6.9M</td><td>&nbsp;</td></tr>\\n<tr><td><a href=\"StormEvents_details-ftp_v1.0_d2004_c20220425.csv.gz\">StormEvents_details-ftp_v1.0_d2004_c20220425.csv.gz</a></td><td align=\"right\">2022-04-25 15:05  </td><td align=\"right\">7.0M</td><td>&nbsp;</td></tr>\\n<tr><td><a href=\"StormEvents_details-ftp_v1.0_d2005_c20220425.csv.gz\">StormEvents_details-ftp_v1.0_d2005_c20220425.csv.gz</a></td><td align=\"right\">2022-04-25 15:05  </td><td align=\"right\">7.4M</td><td>&nbsp;</td></tr>\\n<tr><td><a href=\"StormEvents_details-ftp_v1.0_d2006_c20220425.csv.gz\">StormEvents_details-ftp_v1.0_d2006_c20220425.csv.gz</a></td><td align=\"right\">2022-04-25 15:05  </td><td align=\"right\">7.2M</td><td>&nbsp;</td></tr>\\n<tr><td><a href=\"StormEvents_details-ftp_v1.0_d2007_c20240216.csv.gz\">StormEvents_details-ftp_v1.0_d2007_c20240216.csv.gz</a></td><td align=\"right\">2024-02-16 16:23  </td><td align=\"right\">9.3M</td><td>&nbsp;</td></tr>\\n<tr><td><a href=\"StormEvents_details-ftp_v1.0_d2008_c20240620.csv.gz\">StormEvents_details-ftp_v1.0_d2008_c20240620.csv.gz</a></td><td align=\"right\">2024-06-20 11:19  </td><td align=\"right\"> 12M</td><td>&nbsp;</td></tr>\\n<tr><td><a href=\"StormEvents_details-ftp_v1.0_d2009_c20231116.csv.gz\">StormEvents_details-ftp_v1.0_d2009_c20231116.csv.gz</a></td><td align=\"right\">2023-11-16 13:48  </td><td align=\"right\">9.8M</td><td>&nbsp;</td></tr>\\n<tr><td><a href=\"StormEvents_details-ftp_v1.0_d2010_c20220425.csv.gz\">StormEvents_details-ftp_v1.0_d2010_c20220425.csv.gz</a></td><td align=\"right\">2022-04-25 15:05  </td><td align=\"right\"> 11M</td><td>&nbsp;</td></tr>\\n<tr><td><a href=\"StormEvents_details-ftp_v1.0_d2011_c20230417.csv.gz\">StormEvents_details-ftp_v1.0_d2011_c20230417.csv.gz</a></td><td align=\"right\">2023-04-17 08:45  </td><td align=\"right\"> 15M</td><td>&nbsp;</td></tr>\\n<tr><td><a href=\"StormEvents_details-ftp_v1.0_d2012_c20221216.csv.gz\">StormEvents_details-ftp_v1.0_d2012_c20221216.csv.gz</a></td><td align=\"right\">2022-12-16 13:30  </td><td align=\"right\"> 11M</td><td>&nbsp;</td></tr>\\n<tr><td><a href=\"StormEvents_details-ftp_v1.0_d2013_c20230118.csv.gz\">StormEvents_details-ftp_v1.0_d2013_c20230118.csv.gz</a></td><td align=\"right\">2023-01-18 10:12  </td><td align=\"right\"> 11M</td><td>&nbsp;</td></tr>\\n<tr><td><a href=\"StormEvents_details-ftp_v1.0_d2014_c20231116.csv.gz\">StormEvents_details-ftp_v1.0_d2014_c20231116.csv.gz</a></td><td align=\"right\">2023-11-16 13:49  </td><td align=\"right\"> 10M</td><td>&nbsp;</td></tr>\\n<tr><td><a href=\"StormEvents_details-ftp_v1.0_d2015_c20240620.csv.gz\">StormEvents_details-ftp_v1.0_d2015_c20240620.csv.gz</a></td><td align=\"right\">2024-06-20 11:20  </td><td align=\"right\">9.5M</td><td>&nbsp;</td></tr>\\n<tr><td><a href=\"StormEvents_details-ftp_v1.0_d2016_c20220719.csv.gz\">StormEvents_details-ftp_v1.0_d2016_c20220719.csv.gz</a></td><td align=\"right\">2022-07-19 08:50  </td><td align=\"right\">8.6M</td><td>&nbsp;</td></tr>\\n<tr><td><a href=\"StormEvents_details-ftp_v1.0_d2017_c20230317.csv.gz\">StormEvents_details-ftp_v1.0_d2017_c20230317.csv.gz</a></td><td align=\"right\">2023-03-17 14:09  </td><td align=\"right\">8.8M</td><td>&nbsp;</td></tr>\\n<tr><td><a href=\"StormEvents_details-ftp_v1.0_d2018_c20240620.csv.gz\">StormEvents_details-ftp_v1.0_d2018_c20240620.csv.gz</a></td><td align=\"right\">2024-06-20 11:21  </td><td align=\"right\">9.1M</td><td>&nbsp;</td></tr>\\n<tr><td><a href=\"StormEvents_details-ftp_v1.0_d2019_c20240117.csv.gz\">StormEvents_details-ftp_v1.0_d2019_c20240117.csv.gz</a></td><td align=\"right\">2024-01-17 09:49  </td><td align=\"right\"> 11M</td><td>&nbsp;</td></tr>\\n<tr><td><a href=\"StormEvents_details-ftp_v1.0_d2020_c20240620.csv.gz\">StormEvents_details-ftp_v1.0_d2020_c20240620.csv.gz</a></td><td align=\"right\">2024-06-20 11:21  </td><td align=\"right\">9.9M</td><td>&nbsp;</td></tr>\\n<tr><td><a href=\"StormEvents_details-ftp_v1.0_d2021_c20240620.csv.gz\">StormEvents_details-ftp_v1.0_d2021_c20240620.csv.gz</a></td><td align=\"right\">2024-06-20 11:22  </td><td align=\"right\"> 10M</td><td>&nbsp;</td></tr>\\n<tr><td><a href=\"StormEvents_details-ftp_v1.0_d2022_c20240516.csv.gz\">StormEvents_details-ftp_v1.0_d2022_c20240516.csv.gz</a></td><td align=\"right\">2024-05-16 10:18  </td><td align=\"right\"> 11M</td><td>&nbsp;</td></tr>\\n<tr><td><a href=\"StormEvents_details-ftp_v1.0_d2023_c20240620.csv.gz\">StormEvents_details-ftp_v1.0_d2023_c20240620.csv.gz</a></td><td align=\"right\">2024-06-20 11:23  </td><td align=\"right\"> 12M</td><td>&nbsp;</td></tr>\\n<tr><td><a href=\"StormEvents_details-ftp_v1.0_d2024_c20240620.csv.gz\">StormEvents_details-ftp_v1.0_d2024_c20240620.csv.gz</a></td><td align=\"right\">2024-06-20 11:23  </td><td align=\"right\">2.5M</td><td>&nbsp;</td></tr>\\n<tr><td><a href=\"StormEvents_fatalities-ftp_v1.0_d1950_c20210803.csv.gz\">StormEvents_fatalities-ftp_v1.0_d1950_c20210803.csv.gz</a></td><td align=\"right\">2021-08-05 09:53  </td><td align=\"right\">540 </td><td>&nbsp;</td></tr>\\n<tr><td><a href=\"StormEvents_fatalities-ftp_v1.0_d1951_c20210803.csv.gz\">StormEvents_fatalities-ftp_v1.0_d1951_c20210803.csv.gz</a></td><td align=\"right\">2021-08-05 09:56  </td><td align=\"right\">487 </td><td>&nbsp;</td></tr>\\n<tr><td><a href=\"StormEvents_fatalities-ftp_v1.0_d1952_c20210803.csv.gz\">StormEvents_fatalities-ftp_v1.0_d1952_c20210803.csv.gz</a></td><td align=\"right\">2021-08-05 09:56  </td><td align=\"right\">654 </td><td>&nbsp;</td></tr>\\n<tr><td><a href=\"StormEvents_fatalities-ftp_v1.0_d1953_c20210803.csv.gz\">StormEvents_fatalities-ftp_v1.0_d1953_c20210803.csv.gz</a></td><td align=\"right\">2021-08-05 09:56  </td><td align=\"right\">972 </td><td>&nbsp;</td></tr>\\n<tr><td><a href=\"StormEvents_fatalities-ftp_v1.0_d1954_c20210803.csv.gz\">StormEvents_fatalities-ftp_v1.0_d1954_c20210803.csv.gz</a></td><td align=\"right\">2021-08-05 09:56  </td><td align=\"right\">568 </td><td>&nbsp;</td></tr>\\n<tr><td><a href=\"StormEvents_fatalities-ftp_v1.0_d1955_c20210803.csv.gz\">StormEvents_fatalities-ftp_v1.0_d1955_c20210803.csv.gz</a></td><td align=\"right\">2021-08-05 09:56  </td><td align=\"right\">586 </td><td>&nbsp;</td></tr>\\n<tr><td><a href=\"StormEvents_fatalities-ftp_v1.0_d1956_c20210803.csv.gz\">StormEvents_fatalities-ftp_v1.0_d1956_c20210803.csv.gz</a></td><td align=\"right\">2021-08-05 09:56  </td><td align=\"right\">516 </td><td>&nbsp;</td></tr>\\n<tr><td><a href=\"StormEvents_fatalities-ftp_v1.0_d1957_c20210803.csv.gz\">StormEvents_fatalities-ftp_v1.0_d1957_c20210803.csv.gz</a></td><td align=\"right\">2021-08-05 09:56  </td><td align=\"right\">1.0K</td><td>&nbsp;</td></tr>\\n<tr><td><a href=\"StormEvents_fatalities-ftp_v1.0_d1958_c20210803.csv.gz\">StormEvents_fatalities-ftp_v1.0_d1958_c20210803.csv.gz</a></td><td align=\"right\">2021-08-05 09:56  </td><td align=\"right\">546 </td><td>&nbsp;</td></tr>\\n<tr><td><a href=\"StormEvents_fatalities-ftp_v1.0_d1959_c20210803.csv.gz\">StormEvents_fatalities-ftp_v1.0_d1959_c20210803.csv.gz</a></td><td align=\"right\">2021-08-05 09:56  </td><td align=\"right\">468 </td><td>&nbsp;</td></tr>\\n<tr><td><a href=\"StormEvents_fatalities-ftp_v1.0_d1960_c20210803.csv.gz\">StormEvents_fatalities-ftp_v1.0_d1960_c20210803.csv.gz</a></td><td align=\"right\">2021-08-05 09:56  </td><td align=\"right\">454 </td><td>&nbsp;</td></tr>\\n<tr><td><a href=\"StormEvents_fatalities-ftp_v1.0_d1961_c20210803.csv.gz\">StormEvents_fatalities-ftp_v1.0_d1961_c20210803.csv.gz</a></td><td align=\"right\">2021-08-05 09:56  </td><td align=\"right\">569 </td><td>&nbsp;</td></tr>\\n<tr><td><a href=\"StormEvents_fatalities-ftp_v1.0_d1962_c20210803.csv.gz\">StormEvents_fatalities-ftp_v1.0_d1962_c20210803.csv.gz</a></td><td align=\"right\">2021-08-05 09:56  </td><td align=\"right\">386 </td><td>&nbsp;</td></tr>\\n<tr><td><a href=\"StormEvents_fatalities-ftp_v1.0_d1963_c20210803.csv.gz\">StormEvents_fatalities-ftp_v1.0_d1963_c20210803.csv.gz</a></td><td align=\"right\">2021-08-05 09:56  </td><td align=\"right\">475 </td><td>&nbsp;</td></tr>\\n<tr><td><a href=\"StormEvents_fatalities-ftp_v1.0_d1964_c20210803.csv.gz\">StormEvents_fatalities-ftp_v1.0_d1964_c20210803.csv.gz</a></td><td align=\"right\">2021-08-05 09:56  </td><td align=\"right\">513 </td><td>&nbsp;</td></tr>\\n<tr><td><a href=\"StormEvents_fatalities-ftp_v1.0_d1965_c20210803.csv.gz\">StormEvents_fatalities-ftp_v1.0_d1965_c20210803.csv.gz</a></td><td align=\"right\">2021-08-05 09:56  </td><td align=\"right\">953 </td><td>&nbsp;</td></tr>\\n<tr><td><a href=\"StormEvents_fatalities-ftp_v1.0_d1966_c20210803.csv.gz\">StormEvents_fatalities-ftp_v1.0_d1966_c20210803.csv.gz</a></td><td align=\"right\">2021-08-05 09:56  </td><td align=\"right\">386 </td><td>&nbsp;</td></tr>\\n<tr><td><a href=\"StormEvents_fatalities-ftp_v1.0_d1967_c20210803.csv.gz\">StormEvents_fatalities-ftp_v1.0_d1967_c20210803.csv.gz</a></td><td align=\"right\">2021-08-05 09:56  </td><td align=\"right\">724 </td><td>&nbsp;</td></tr>\\n<tr><td><a href=\"StormEvents_fatalities-ftp_v1.0_d1968_c20210803.csv.gz\">StormEvents_fatalities-ftp_v1.0_d1968_c20210803.csv.gz</a></td><td align=\"right\">2021-08-05 09:56  </td><td align=\"right\">652 </td><td>&nbsp;</td></tr>\\n<tr><td><a href=\"StormEvents_fatalities-ftp_v1.0_d1969_c20210803.csv.gz\">StormEvents_fatalities-ftp_v1.0_d1969_c20210803.csv.gz</a></td><td align=\"right\">2021-08-05 09:56  </td><td align=\"right\">453 </td><td>&nbsp;</td></tr>\\n<tr><td><a href=\"StormEvents_fatalities-ftp_v1.0_d1970_c20210803.csv.gz\">StormEvents_fatalities-ftp_v1.0_d1970_c20210803.csv.gz</a></td><td align=\"right\">2021-08-05 09:56  </td><td align=\"right\">584 </td><td>&nbsp;</td></tr>\\n<tr><td><a href=\"StormEvents_fatalities-ftp_v1.0_d1971_c20210803.csv.gz\">StormEvents_fatalities-ftp_v1.0_d1971_c20210803.csv.gz</a></td><td align=\"right\">2021-08-05 09:56  </td><td align=\"right\">678 </td><td>&nbsp;</td></tr>\\n<tr><td><a href=\"StormEvents_fatalities-ftp_v1.0_d1972_c20220425.csv.gz\">StormEvents_fatalities-ftp_v1.0_d1972_c20220425.csv.gz</a></td><td align=\"right\">2022-04-25 15:06  </td><td align=\"right\">524 </td><td>&nbsp;</td></tr>\\n<tr><td><a href=\"StormEvents_fatalities-ftp_v1.0_d1973_c20220425.csv.gz\">StormEvents_fatalities-ftp_v1.0_d1973_c20220425.csv.gz</a></td><td align=\"right\">2022-04-25 15:06  </td><td align=\"right\">894 </td><td>&nbsp;</td></tr>\\n<tr><td><a href=\"StormEvents_fatalities-ftp_v1.0_d1974_c20220425.csv.gz\">StormEvents_fatalities-ftp_v1.0_d1974_c20220425.csv.gz</a></td><td align=\"right\">2022-04-25 15:06  </td><td align=\"right\">1.4K</td><td>&nbsp;</td></tr>\\n<tr><td><a href=\"StormEvents_fatalities-ftp_v1.0_d1975_c20220425.csv.gz\">StormEvents_fatalities-ftp_v1.0_d1975_c20220425.csv.gz</a></td><td align=\"right\">2022-04-25 15:06  </td><td align=\"right\">706 </td><td>&nbsp;</td></tr>\\n<tr><td><a href=\"StormEvents_fatalities-ftp_v1.0_d1976_c20220425.csv.gz\">StormEvents_fatalities-ftp_v1.0_d1976_c20220425.csv.gz</a></td><td align=\"right\">2022-04-25 15:06  </td><td align=\"right\">676 </td><td>&nbsp;</td></tr>\\n<tr><td><a href=\"StormEvents_fatalities-ftp_v1.0_d1977_c20220425.csv.gz\">StormEvents_fatalities-ftp_v1.0_d1977_c20220425.csv.gz</a></td><td align=\"right\">2022-04-25 15:06  </td><td align=\"right\">472 </td><td>&nbsp;</td></tr>\\n<tr><td><a href=\"StormEvents_fatalities-ftp_v1.0_d1978_c20220425.csv.gz\">StormEvents_fatalities-ftp_v1.0_d1978_c20220425.csv.gz</a></td><td align=\"right\">2022-04-25 15:06  </td><td align=\"right\">548 </td><td>&nbsp;</td></tr>\\n<tr><td><a href=\"StormEvents_fatalities-ftp_v1.0_d1979_c20220425.csv.gz\">StormEvents_fatalities-ftp_v1.0_d1979_c20220425.csv.gz</a></td><td align=\"right\">2022-04-25 15:06  </td><td align=\"right\">566 </td><td>&nbsp;</td></tr>\\n<tr><td><a href=\"StormEvents_fatalities-ftp_v1.0_d1980_c20220425.csv.gz\">StormEvents_fatalities-ftp_v1.0_d1980_c20220425.csv.gz</a></td><td align=\"right\">2022-04-25 15:06  </td><td align=\"right\">554 </td><td>&nbsp;</td></tr>\\n<tr><td><a href=\"StormEvents_fatalities-ftp_v1.0_d1981_c20220425.csv.gz\">StormEvents_fatalities-ftp_v1.0_d1981_c20220425.csv.gz</a></td><td align=\"right\">2022-04-25 15:06  </td><td align=\"right\">453 </td><td>&nbsp;</td></tr>\\n<tr><td><a href=\"StormEvents_fatalities-ftp_v1.0_d1982_c20220425.csv.gz\">StormEvents_fatalities-ftp_v1.0_d1982_c20220425.csv.gz</a></td><td align=\"right\">2022-04-25 15:06  </td><td align=\"right\">732 </td><td>&nbsp;</td></tr>\\n<tr><td><a href=\"StormEvents_fatalities-ftp_v1.0_d1983_c20220425.csv.gz\">StormEvents_fatalities-ftp_v1.0_d1983_c20220425.csv.gz</a></td><td align=\"right\">2022-04-25 15:06  </td><td align=\"right\">712 </td><td>&nbsp;</td></tr>\\n<tr><td><a href=\"StormEvents_fatalities-ftp_v1.0_d1984_c20220425.csv.gz\">StormEvents_fatalities-ftp_v1.0_d1984_c20220425.csv.gz</a></td><td align=\"right\">2022-04-25 15:06  </td><td align=\"right\">1.1K</td><td>&nbsp;</td></tr>\\n<tr><td><a href=\"StormEvents_fatalities-ftp_v1.0_d1985_c20220425.csv.gz\">StormEvents_fatalities-ftp_v1.0_d1985_c20220425.csv.gz</a></td><td align=\"right\">2022-04-25 15:06  </td><td align=\"right\">809 </td><td>&nbsp;</td></tr>\\n<tr><td><a href=\"StormEvents_fatalities-ftp_v1.0_d1986_c20220425.csv.gz\">StormEvents_fatalities-ftp_v1.0_d1986_c20220425.csv.gz</a></td><td align=\"right\">2022-04-25 15:06  </td><td align=\"right\">767 </td><td>&nbsp;</td></tr>\\n<tr><td><a href=\"StormEvents_fatalities-ftp_v1.0_d1987_c20220425.csv.gz\">StormEvents_fatalities-ftp_v1.0_d1987_c20220425.csv.gz</a></td><td align=\"right\">2022-04-25 15:06  </td><td align=\"right\">875 </td><td>&nbsp;</td></tr>\\n<tr><td><a href=\"StormEvents_fatalities-ftp_v1.0_d1988_c20220425.csv.gz\">StormEvents_fatalities-ftp_v1.0_d1988_c20220425.csv.gz</a></td><td align=\"right\">2022-04-25 15:06  </td><td align=\"right\">870 </td><td>&nbsp;</td></tr>\\n<tr><td><a href=\"StormEvents_fatalities-ftp_v1.0_d1989_c20220425.csv.gz\">StormEvents_fatalities-ftp_v1.0_d1989_c20220425.csv.gz</a></td><td align=\"right\">2022-04-25 15:06  </td><td align=\"right\">865 </td><td>&nbsp;</td></tr>\\n<tr><td><a href=\"StormEvents_fatalities-ftp_v1.0_d1990_c20220425.csv.gz\">StormEvents_fatalities-ftp_v1.0_d1990_c20220425.csv.gz</a></td><td align=\"right\">2022-04-25 15:06  </td><td align=\"right\">945 </td><td>&nbsp;</td></tr>\\n<tr><td><a href=\"StormEvents_fatalities-ftp_v1.0_d1991_c20220425.csv.gz\">StormEvents_fatalities-ftp_v1.0_d1991_c20220425.csv.gz</a></td><td align=\"right\">2022-04-25 15:06  </td><td align=\"right\">891 </td><td>&nbsp;</td></tr>\\n<tr><td><a href=\"StormEvents_fatalities-ftp_v1.0_d1992_c20220425.csv.gz\">StormEvents_fatalities-ftp_v1.0_d1992_c20220425.csv.gz</a></td><td align=\"right\">2022-04-25 15:06  </td><td align=\"right\">718 </td><td>&nbsp;</td></tr>\\n<tr><td><a href=\"StormEvents_fatalities-ftp_v1.0_d1993_c20220425.csv.gz\">StormEvents_fatalities-ftp_v1.0_d1993_c20220425.csv.gz</a></td><td align=\"right\">2022-04-25 15:06  </td><td align=\"right\">675 </td><td>&nbsp;</td></tr>\\n<tr><td><a href=\"StormEvents_fatalities-ftp_v1.0_d1994_c20220425.csv.gz\">StormEvents_fatalities-ftp_v1.0_d1994_c20220425.csv.gz</a></td><td align=\"right\">2022-04-25 15:06  </td><td align=\"right\">749 </td><td>&nbsp;</td></tr>\\n<tr><td><a href=\"StormEvents_fatalities-ftp_v1.0_d1995_c20220425.csv.gz\">StormEvents_fatalities-ftp_v1.0_d1995_c20220425.csv.gz</a></td><td align=\"right\">2022-04-25 15:06  </td><td align=\"right\">1.0K</td><td>&nbsp;</td></tr>\\n<tr><td><a href=\"StormEvents_fatalities-ftp_v1.0_d1996_c20220425.csv.gz\">StormEvents_fatalities-ftp_v1.0_d1996_c20220425.csv.gz</a></td><td align=\"right\">2022-04-25 15:06  </td><td align=\"right\">7.0K</td><td>&nbsp;</td></tr>\\n<tr><td><a href=\"StormEvents_fatalities-ftp_v1.0_d1997_c20220425.csv.gz\">StormEvents_fatalities-ftp_v1.0_d1997_c20220425.csv.gz</a></td><td align=\"right\">2022-04-25 15:06  </td><td align=\"right\">7.2K</td><td>&nbsp;</td></tr>\\n<tr><td><a href=\"StormEvents_fatalities-ftp_v1.0_d1998_c20220425.csv.gz\">StormEvents_fatalities-ftp_v1.0_d1998_c20220425.csv.gz</a></td><td align=\"right\">2022-04-25 15:06  </td><td align=\"right\">8.3K</td><td>&nbsp;</td></tr>\\n<tr><td><a href=\"StormEvents_fatalities-ftp_v1.0_d1999_c20220425.csv.gz\">StormEvents_fatalities-ftp_v1.0_d1999_c20220425.csv.gz</a></td><td align=\"right\">2022-04-25 15:06  </td><td align=\"right\">9.8K</td><td>&nbsp;</td></tr>\\n<tr><td><a href=\"StormEvents_fatalities-ftp_v1.0_d2000_c20220425.csv.gz\">StormEvents_fatalities-ftp_v1.0_d2000_c20220425.csv.gz</a></td><td align=\"right\">2022-04-25 15:06  </td><td align=\"right\">6.6K</td><td>&nbsp;</td></tr>\\n<tr><td><a href=\"StormEvents_fatalities-ftp_v1.0_d2001_c20220425.csv.gz\">StormEvents_fatalities-ftp_v1.0_d2001_c20220425.csv.gz</a></td><td align=\"right\">2022-04-25 15:06  </td><td align=\"right\">6.2K</td><td>&nbsp;</td></tr>\\n<tr><td><a href=\"StormEvents_fatalities-ftp_v1.0_d2002_c20220425.csv.gz\">StormEvents_fatalities-ftp_v1.0_d2002_c20220425.csv.gz</a></td><td align=\"right\">2022-04-25 15:06  </td><td align=\"right\">6.2K</td><td>&nbsp;</td></tr>\\n<tr><td><a href=\"StormEvents_fatalities-ftp_v1.0_d2003_c20220425.csv.gz\">StormEvents_fatalities-ftp_v1.0_d2003_c20220425.csv.gz</a></td><td align=\"right\">2022-04-25 15:05  </td><td align=\"right\">5.8K</td><td>&nbsp;</td></tr>\\n<tr><td><a href=\"StormEvents_fatalities-ftp_v1.0_d2004_c20220425.csv.gz\">StormEvents_fatalities-ftp_v1.0_d2004_c20220425.csv.gz</a></td><td align=\"right\">2022-04-25 15:05  </td><td align=\"right\">5.1K</td><td>&nbsp;</td></tr>\\n<tr><td><a href=\"StormEvents_fatalities-ftp_v1.0_d2005_c20220425.csv.gz\">StormEvents_fatalities-ftp_v1.0_d2005_c20220425.csv.gz</a></td><td align=\"right\">2022-04-25 15:05  </td><td align=\"right\"> 12K</td><td>&nbsp;</td></tr>\\n<tr><td><a href=\"StormEvents_fatalities-ftp_v1.0_d2006_c20220425.csv.gz\">StormEvents_fatalities-ftp_v1.0_d2006_c20220425.csv.gz</a></td><td align=\"right\">2022-04-25 15:05  </td><td align=\"right\">7.9K</td><td>&nbsp;</td></tr>\\n<tr><td><a href=\"StormEvents_fatalities-ftp_v1.0_d2007_c20240216.csv.gz\">StormEvents_fatalities-ftp_v1.0_d2007_c20240216.csv.gz</a></td><td align=\"right\">2024-02-16 16:23  </td><td align=\"right\">8.5K</td><td>&nbsp;</td></tr>\\n<tr><td><a href=\"StormEvents_fatalities-ftp_v1.0_d2008_c20240620.csv.gz\">StormEvents_fatalities-ftp_v1.0_d2008_c20240620.csv.gz</a></td><td align=\"right\">2024-06-20 11:19  </td><td align=\"right\"> 10K</td><td>&nbsp;</td></tr>\\n<tr><td><a href=\"StormEvents_fatalities-ftp_v1.0_d2009_c20231116.csv.gz\">StormEvents_fatalities-ftp_v1.0_d2009_c20231116.csv.gz</a></td><td align=\"right\">2023-11-16 13:48  </td><td align=\"right\">7.4K</td><td>&nbsp;</td></tr>\\n<tr><td><a href=\"StormEvents_fatalities-ftp_v1.0_d2010_c20220425.csv.gz\">StormEvents_fatalities-ftp_v1.0_d2010_c20220425.csv.gz</a></td><td align=\"right\">2022-04-25 15:05  </td><td align=\"right\">8.7K</td><td>&nbsp;</td></tr>\\n<tr><td><a href=\"StormEvents_fatalities-ftp_v1.0_d2011_c20230417.csv.gz\">StormEvents_fatalities-ftp_v1.0_d2011_c20230417.csv.gz</a></td><td align=\"right\">2023-04-17 08:45  </td><td align=\"right\"> 14K</td><td>&nbsp;</td></tr>\\n<tr><td><a href=\"StormEvents_fatalities-ftp_v1.0_d2012_c20221216.csv.gz\">StormEvents_fatalities-ftp_v1.0_d2012_c20221216.csv.gz</a></td><td align=\"right\">2022-12-16 13:30  </td><td align=\"right\">8.6K</td><td>&nbsp;</td></tr>\\n<tr><td><a href=\"StormEvents_fatalities-ftp_v1.0_d2013_c20230118.csv.gz\">StormEvents_fatalities-ftp_v1.0_d2013_c20230118.csv.gz</a></td><td align=\"right\">2023-01-18 10:12  </td><td align=\"right\">7.4K</td><td>&nbsp;</td></tr>\\n<tr><td><a href=\"StormEvents_fatalities-ftp_v1.0_d2014_c20231116.csv.gz\">StormEvents_fatalities-ftp_v1.0_d2014_c20231116.csv.gz</a></td><td align=\"right\">2023-11-16 13:49  </td><td align=\"right\">7.3K</td><td>&nbsp;</td></tr>\\n<tr><td><a href=\"StormEvents_fatalities-ftp_v1.0_d2015_c20240620.csv.gz\">StormEvents_fatalities-ftp_v1.0_d2015_c20240620.csv.gz</a></td><td align=\"right\">2024-06-20 11:20  </td><td align=\"right\">9.0K</td><td>&nbsp;</td></tr>\\n<tr><td><a href=\"StormEvents_fatalities-ftp_v1.0_d2016_c20220719.csv.gz\">StormEvents_fatalities-ftp_v1.0_d2016_c20220719.csv.gz</a></td><td align=\"right\">2022-07-19 08:50  </td><td align=\"right\">8.9K</td><td>&nbsp;</td></tr>\\n<tr><td><a href=\"StormEvents_fatalities-ftp_v1.0_d2017_c20230317.csv.gz\">StormEvents_fatalities-ftp_v1.0_d2017_c20230317.csv.gz</a></td><td align=\"right\">2023-03-17 14:09  </td><td align=\"right\">9.1K</td><td>&nbsp;</td></tr>\\n<tr><td><a href=\"StormEvents_fatalities-ftp_v1.0_d2018_c20240620.csv.gz\">StormEvents_fatalities-ftp_v1.0_d2018_c20240620.csv.gz</a></td><td align=\"right\">2024-06-20 11:21  </td><td align=\"right\"> 12K</td><td>&nbsp;</td></tr>\\n<tr><td><a href=\"StormEvents_fatalities-ftp_v1.0_d2019_c20240117.csv.gz\">StormEvents_fatalities-ftp_v1.0_d2019_c20240117.csv.gz</a></td><td align=\"right\">2024-01-17 09:49  </td><td align=\"right\">9.4K</td><td>&nbsp;</td></tr>\\n<tr><td><a href=\"StormEvents_fatalities-ftp_v1.0_d2020_c20240620.csv.gz\">StormEvents_fatalities-ftp_v1.0_d2020_c20240620.csv.gz</a></td><td align=\"right\">2024-06-20 11:21  </td><td align=\"right\">9.9K</td><td>&nbsp;</td></tr>\\n<tr><td><a href=\"StormEvents_fatalities-ftp_v1.0_d2021_c20240620.csv.gz\">StormEvents_fatalities-ftp_v1.0_d2021_c20240620.csv.gz</a></td><td align=\"right\">2024-06-20 11:22  </td><td align=\"right\"> 13K</td><td>&nbsp;</td></tr>\\n<tr><td><a href=\"StormEvents_fatalities-ftp_v1.0_d2022_c20240516.csv.gz\">StormEvents_fatalities-ftp_v1.0_d2022_c20240516.csv.gz</a></td><td align=\"right\">2024-05-16 10:18  </td><td align=\"right\"> 12K</td><td>&nbsp;</td></tr>\\n<tr><td><a href=\"StormEvents_fatalities-ftp_v1.0_d2023_c20240620.csv.gz\">StormEvents_fatalities-ftp_v1.0_d2023_c20240620.csv.gz</a></td><td align=\"right\">2024-06-20 11:23  </td><td align=\"right\"> 11K</td><td>&nbsp;</td></tr>\\n<tr><td><a href=\"StormEvents_fatalities-ftp_v1.0_d2024_c20240620.csv.gz\">StormEvents_fatalities-ftp_v1.0_d2024_c20240620.csv.gz</a></td><td align=\"right\">2024-06-20 11:23  </td><td align=\"right\">1.8K</td><td>&nbsp;</td></tr>\\n<tr><td><a href=\"StormEvents_locations-ftp_v1.0_d1972_c20220425.csv.gz\">StormEvents_locations-ftp_v1.0_d1972_c20220425.csv.gz</a></td><td align=\"right\">2022-04-25 15:06  </td><td align=\"right\">201 </td><td>&nbsp;</td></tr>\\n<tr><td><a href=\"StormEvents_locations-ftp_v1.0_d1973_c20220425.csv.gz\">StormEvents_locations-ftp_v1.0_d1973_c20220425.csv.gz</a></td><td align=\"right\">2022-04-25 15:06  </td><td align=\"right\">147 </td><td>&nbsp;</td></tr>\\n<tr><td><a href=\"StormEvents_locations-ftp_v1.0_d1974_c20220425.csv.gz\">StormEvents_locations-ftp_v1.0_d1974_c20220425.csv.gz</a></td><td align=\"right\">2022-04-25 15:06  </td><td align=\"right\">147 </td><td>&nbsp;</td></tr>\\n<tr><td><a href=\"StormEvents_locations-ftp_v1.0_d1975_c20220425.csv.gz\">StormEvents_locations-ftp_v1.0_d1975_c20220425.csv.gz</a></td><td align=\"right\">2022-04-25 15:06  </td><td align=\"right\">147 </td><td>&nbsp;</td></tr>\\n<tr><td><a href=\"StormEvents_locations-ftp_v1.0_d1976_c20220425.csv.gz\">StormEvents_locations-ftp_v1.0_d1976_c20220425.csv.gz</a></td><td align=\"right\">2022-04-25 15:06  </td><td align=\"right\">147 </td><td>&nbsp;</td></tr>\\n<tr><td><a href=\"StormEvents_locations-ftp_v1.0_d1977_c20220425.csv.gz\">StormEvents_locations-ftp_v1.0_d1977_c20220425.csv.gz</a></td><td align=\"right\">2022-04-25 15:06  </td><td align=\"right\">147 </td><td>&nbsp;</td></tr>\\n<tr><td><a href=\"StormEvents_locations-ftp_v1.0_d1978_c20220425.csv.gz\">StormEvents_locations-ftp_v1.0_d1978_c20220425.csv.gz</a></td><td align=\"right\">2022-04-25 15:06  </td><td align=\"right\">147 </td><td>&nbsp;</td></tr>\\n<tr><td><a href=\"StormEvents_locations-ftp_v1.0_d1979_c20220425.csv.gz\">StormEvents_locations-ftp_v1.0_d1979_c20220425.csv.gz</a></td><td align=\"right\">2022-04-25 15:06  </td><td align=\"right\">147 </td><td>&nbsp;</td></tr>\\n<tr><td><a href=\"StormEvents_locations-ftp_v1.0_d1980_c20220425.csv.gz\">StormEvents_locations-ftp_v1.0_d1980_c20220425.csv.gz</a></td><td align=\"right\">2022-04-25 15:06  </td><td align=\"right\">147 </td><td>&nbsp;</td></tr>\\n<tr><td><a href=\"StormEvents_locations-ftp_v1.0_d1981_c20220425.csv.gz\">StormEvents_locations-ftp_v1.0_d1981_c20220425.csv.gz</a></td><td align=\"right\">2022-04-25 15:06  </td><td align=\"right\">147 </td><td>&nbsp;</td></tr>\\n<tr><td><a href=\"StormEvents_locations-ftp_v1.0_d1982_c20220425.csv.gz\">StormEvents_locations-ftp_v1.0_d1982_c20220425.csv.gz</a></td><td align=\"right\">2022-04-25 15:06  </td><td align=\"right\">147 </td><td>&nbsp;</td></tr>\\n<tr><td><a href=\"StormEvents_locations-ftp_v1.0_d1983_c20220425.csv.gz\">StormEvents_locations-ftp_v1.0_d1983_c20220425.csv.gz</a></td><td align=\"right\">2022-04-25 15:06  </td><td align=\"right\">147 </td><td>&nbsp;</td></tr>\\n<tr><td><a href=\"StormEvents_locations-ftp_v1.0_d1984_c20220425.csv.gz\">StormEvents_locations-ftp_v1.0_d1984_c20220425.csv.gz</a></td><td align=\"right\">2022-04-25 15:06  </td><td align=\"right\">147 </td><td>&nbsp;</td></tr>\\n<tr><td><a href=\"StormEvents_locations-ftp_v1.0_d1985_c20220425.csv.gz\">StormEvents_locations-ftp_v1.0_d1985_c20220425.csv.gz</a></td><td align=\"right\">2022-04-25 15:06  </td><td align=\"right\">147 </td><td>&nbsp;</td></tr>\\n<tr><td><a href=\"StormEvents_locations-ftp_v1.0_d1986_c20220425.csv.gz\">StormEvents_locations-ftp_v1.0_d1986_c20220425.csv.gz</a></td><td align=\"right\">2022-04-25 15:06  </td><td align=\"right\">147 </td><td>&nbsp;</td></tr>\\n<tr><td><a href=\"StormEvents_locations-ftp_v1.0_d1987_c20220425.csv.gz\">StormEvents_locations-ftp_v1.0_d1987_c20220425.csv.gz</a></td><td align=\"right\">2022-04-25 15:06  </td><td align=\"right\">147 </td><td>&nbsp;</td></tr>\\n<tr><td><a href=\"StormEvents_locations-ftp_v1.0_d1988_c20220425.csv.gz\">StormEvents_locations-ftp_v1.0_d1988_c20220425.csv.gz</a></td><td align=\"right\">2022-04-25 15:06  </td><td align=\"right\">147 </td><td>&nbsp;</td></tr>\\n<tr><td><a href=\"StormEvents_locations-ftp_v1.0_d1989_c20220425.csv.gz\">StormEvents_locations-ftp_v1.0_d1989_c20220425.csv.gz</a></td><td align=\"right\">2022-04-25 15:06  </td><td align=\"right\">147 </td><td>&nbsp;</td></tr>\\n<tr><td><a href=\"StormEvents_locations-ftp_v1.0_d1990_c20220425.csv.gz\">StormEvents_locations-ftp_v1.0_d1990_c20220425.csv.gz</a></td><td align=\"right\">2022-04-25 15:06  </td><td align=\"right\">147 </td><td>&nbsp;</td></tr>\\n<tr><td><a href=\"StormEvents_locations-ftp_v1.0_d1991_c20220425.csv.gz\">StormEvents_locations-ftp_v1.0_d1991_c20220425.csv.gz</a></td><td align=\"right\">2022-04-25 15:06  </td><td align=\"right\">147 </td><td>&nbsp;</td></tr>\\n<tr><td><a href=\"StormEvents_locations-ftp_v1.0_d1992_c20220425.csv.gz\">StormEvents_locations-ftp_v1.0_d1992_c20220425.csv.gz</a></td><td align=\"right\">2022-04-25 15:06  </td><td align=\"right\">147 </td><td>&nbsp;</td></tr>\\n<tr><td><a href=\"StormEvents_locations-ftp_v1.0_d1993_c20220425.csv.gz\">StormEvents_locations-ftp_v1.0_d1993_c20220425.csv.gz</a></td><td align=\"right\">2022-04-25 15:06  </td><td align=\"right\">147 </td><td>&nbsp;</td></tr>\\n<tr><td><a href=\"StormEvents_locations-ftp_v1.0_d1994_c20220425.csv.gz\">StormEvents_locations-ftp_v1.0_d1994_c20220425.csv.gz</a></td><td align=\"right\">2022-04-25 15:06  </td><td align=\"right\">147 </td><td>&nbsp;</td></tr>\\n<tr><td><a href=\"StormEvents_locations-ftp_v1.0_d1995_c20220425.csv.gz\">StormEvents_locations-ftp_v1.0_d1995_c20220425.csv.gz</a></td><td align=\"right\">2022-04-25 15:06  </td><td align=\"right\">147 </td><td>&nbsp;</td></tr>\\n<tr><td><a href=\"StormEvents_locations-ftp_v1.0_d1996_c20220425.csv.gz\">StormEvents_locations-ftp_v1.0_d1996_c20220425.csv.gz</a></td><td align=\"right\">2022-04-25 15:06  </td><td align=\"right\">663K</td><td>&nbsp;</td></tr>\\n<tr><td><a href=\"StormEvents_locations-ftp_v1.0_d1997_c20220425.csv.gz\">StormEvents_locations-ftp_v1.0_d1997_c20220425.csv.gz</a></td><td align=\"right\">2022-04-25 15:06  </td><td align=\"right\">563K</td><td>&nbsp;</td></tr>\\n<tr><td><a href=\"StormEvents_locations-ftp_v1.0_d1998_c20220425.csv.gz\">StormEvents_locations-ftp_v1.0_d1998_c20220425.csv.gz</a></td><td align=\"right\">2022-04-25 15:06  </td><td align=\"right\">739K</td><td>&nbsp;</td></tr>\\n<tr><td><a href=\"StormEvents_locations-ftp_v1.0_d1999_c20220425.csv.gz\">StormEvents_locations-ftp_v1.0_d1999_c20220425.csv.gz</a></td><td align=\"right\">2022-04-25 15:06  </td><td align=\"right\">622K</td><td>&nbsp;</td></tr>\\n<tr><td><a href=\"StormEvents_locations-ftp_v1.0_d2000_c20220425.csv.gz\">StormEvents_locations-ftp_v1.0_d2000_c20220425.csv.gz</a></td><td align=\"right\">2022-04-25 15:06  </td><td align=\"right\">605K</td><td>&nbsp;</td></tr>\\n<tr><td><a href=\"StormEvents_locations-ftp_v1.0_d2001_c20220425.csv.gz\">StormEvents_locations-ftp_v1.0_d2001_c20220425.csv.gz</a></td><td align=\"right\">2022-04-25 15:06  </td><td align=\"right\">587K</td><td>&nbsp;</td></tr>\\n<tr><td><a href=\"StormEvents_locations-ftp_v1.0_d2002_c20220425.csv.gz\">StormEvents_locations-ftp_v1.0_d2002_c20220425.csv.gz</a></td><td align=\"right\">2022-04-25 15:06  </td><td align=\"right\">614K</td><td>&nbsp;</td></tr>\\n<tr><td><a href=\"StormEvents_locations-ftp_v1.0_d2003_c20220425.csv.gz\">StormEvents_locations-ftp_v1.0_d2003_c20220425.csv.gz</a></td><td align=\"right\">2022-04-25 15:05  </td><td align=\"right\">655K</td><td>&nbsp;</td></tr>\\n<tr><td><a href=\"StormEvents_locations-ftp_v1.0_d2004_c20220425.csv.gz\">StormEvents_locations-ftp_v1.0_d2004_c20220425.csv.gz</a></td><td align=\"right\">2022-04-25 15:05  </td><td align=\"right\">646K</td><td>&nbsp;</td></tr>\\n<tr><td><a href=\"StormEvents_locations-ftp_v1.0_d2005_c20220425.csv.gz\">StormEvents_locations-ftp_v1.0_d2005_c20220425.csv.gz</a></td><td align=\"right\">2022-04-25 15:05  </td><td align=\"right\">705K</td><td>&nbsp;</td></tr>\\n<tr><td><a href=\"StormEvents_locations-ftp_v1.0_d2006_c20220425.csv.gz\">StormEvents_locations-ftp_v1.0_d2006_c20220425.csv.gz</a></td><td align=\"right\">2022-04-25 15:05  </td><td align=\"right\">724K</td><td>&nbsp;</td></tr>\\n<tr><td><a href=\"StormEvents_locations-ftp_v1.0_d2007_c20240216.csv.gz\">StormEvents_locations-ftp_v1.0_d2007_c20240216.csv.gz</a></td><td align=\"right\">2024-02-16 16:23  </td><td align=\"right\">892K</td><td>&nbsp;</td></tr>\\n<tr><td><a href=\"StormEvents_locations-ftp_v1.0_d2008_c20240620.csv.gz\">StormEvents_locations-ftp_v1.0_d2008_c20240620.csv.gz</a></td><td align=\"right\">2024-06-20 11:19  </td><td align=\"right\">1.6M</td><td>&nbsp;</td></tr>\\n<tr><td><a href=\"StormEvents_locations-ftp_v1.0_d2009_c20231116.csv.gz\">StormEvents_locations-ftp_v1.0_d2009_c20231116.csv.gz</a></td><td align=\"right\">2023-11-16 13:48  </td><td align=\"right\">1.4M</td><td>&nbsp;</td></tr>\\n<tr><td><a href=\"StormEvents_locations-ftp_v1.0_d2010_c20220425.csv.gz\">StormEvents_locations-ftp_v1.0_d2010_c20220425.csv.gz</a></td><td align=\"right\">2022-04-25 15:05  </td><td align=\"right\">1.5M</td><td>&nbsp;</td></tr>\\n<tr><td><a href=\"StormEvents_locations-ftp_v1.0_d2011_c20230417.csv.gz\">StormEvents_locations-ftp_v1.0_d2011_c20230417.csv.gz</a></td><td align=\"right\">2023-04-17 08:45  </td><td align=\"right\">1.8M</td><td>&nbsp;</td></tr>\\n<tr><td><a href=\"StormEvents_locations-ftp_v1.0_d2012_c20221216.csv.gz\">StormEvents_locations-ftp_v1.0_d2012_c20221216.csv.gz</a></td><td align=\"right\">2022-12-16 13:30  </td><td align=\"right\">1.2M</td><td>&nbsp;</td></tr>\\n<tr><td><a href=\"StormEvents_locations-ftp_v1.0_d2013_c20230118.csv.gz\">StormEvents_locations-ftp_v1.0_d2013_c20230118.csv.gz</a></td><td align=\"right\">2023-01-18 10:12  </td><td align=\"right\">1.4M</td><td>&nbsp;</td></tr>\\n<tr><td><a href=\"StormEvents_locations-ftp_v1.0_d2014_c20231116.csv.gz\">StormEvents_locations-ftp_v1.0_d2014_c20231116.csv.gz</a></td><td align=\"right\">2023-11-16 13:49  </td><td align=\"right\">1.2M</td><td>&nbsp;</td></tr>\\n<tr><td><a href=\"StormEvents_locations-ftp_v1.0_d2015_c20240620.csv.gz\">StormEvents_locations-ftp_v1.0_d2015_c20240620.csv.gz</a></td><td align=\"right\">2024-06-20 11:20  </td><td align=\"right\">1.5M</td><td>&nbsp;</td></tr>\\n<tr><td><a href=\"StormEvents_locations-ftp_v1.0_d2016_c20220719.csv.gz\">StormEvents_locations-ftp_v1.0_d2016_c20220719.csv.gz</a></td><td align=\"right\">2022-07-19 08:50  </td><td align=\"right\">1.3M</td><td>&nbsp;</td></tr>\\n<tr><td><a href=\"StormEvents_locations-ftp_v1.0_d2017_c20230317.csv.gz\">StormEvents_locations-ftp_v1.0_d2017_c20230317.csv.gz</a></td><td align=\"right\">2023-03-17 14:09  </td><td align=\"right\">1.4M</td><td>&nbsp;</td></tr>\\n<tr><td><a href=\"StormEvents_locations-ftp_v1.0_d2018_c20240620.csv.gz\">StormEvents_locations-ftp_v1.0_d2018_c20240620.csv.gz</a></td><td align=\"right\">2024-06-20 11:21  </td><td align=\"right\">1.6M</td><td>&nbsp;</td></tr>\\n<tr><td><a href=\"StormEvents_locations-ftp_v1.0_d2019_c20240117.csv.gz\">StormEvents_locations-ftp_v1.0_d2019_c20240117.csv.gz</a></td><td align=\"right\">2024-01-17 09:49  </td><td align=\"right\">1.7M</td><td>&nbsp;</td></tr>\\n<tr><td><a href=\"StormEvents_locations-ftp_v1.0_d2020_c20240620.csv.gz\">StormEvents_locations-ftp_v1.0_d2020_c20240620.csv.gz</a></td><td align=\"right\">2024-06-20 11:21  </td><td align=\"right\">1.4M</td><td>&nbsp;</td></tr>\\n<tr><td><a href=\"StormEvents_locations-ftp_v1.0_d2021_c20240620.csv.gz\">StormEvents_locations-ftp_v1.0_d2021_c20240620.csv.gz</a></td><td align=\"right\">2024-06-20 11:22  </td><td align=\"right\">1.2M</td><td>&nbsp;</td></tr>\\n<tr><td><a href=\"StormEvents_locations-ftp_v1.0_d2022_c20240516.csv.gz\">StormEvents_locations-ftp_v1.0_d2022_c20240516.csv.gz</a></td><td align=\"right\">2024-05-16 10:18  </td><td align=\"right\">921K</td><td>&nbsp;</td></tr>\\n<tr><td><a href=\"StormEvents_locations-ftp_v1.0_d2023_c20240620.csv.gz\">StormEvents_locations-ftp_v1.0_d2023_c20240620.csv.gz</a></td><td align=\"right\">2024-06-20 11:23  </td><td align=\"right\">1.0M</td><td>&nbsp;</td></tr>\\n<tr><td><a href=\"StormEvents_locations-ftp_v1.0_d2024_c20240620.csv.gz\">StormEvents_locations-ftp_v1.0_d2024_c20240620.csv.gz</a></td><td align=\"right\">2024-06-20 11:23  </td><td align=\"right\">175K</td><td>&nbsp;</td></tr>\\n<tr><td><a href=\"legacy/\">legacy/</a></td><td align=\"right\">2014-05-14 11:00  </td><td align=\"right\">  - </td><td>&nbsp;</td></tr>\\n<tr><td><a href=\"ugc_areas.csv\">ugc_areas.csv</a></td><td align=\"right\">2014-02-18 09:15  </td><td align=\"right\">902K</td><td>&nbsp;</td></tr>\\n   <tr><th colspan=\"4\"><hr></th></tr>\\n</table>\\n<script id=\"_fed_an_ua_tag\" type=\"text/javascript\" src=\"https://dap.digitalgov.gov/Universal-Federated-Analytics-Min.js?agency=DOC&subagency=NOAA\"></script></body></html>\\n'"
      ]
     },
     "execution_count": 62,
     "metadata": {},
     "output_type": "execute_result"
    }
   ],
   "source": [
    "resp = urllib.request.urlopen(\"https://www.ncei.noaa.gov/pub/data/swdi/stormevents/csvfiles/\")\n",
    "resp.read()\n",
    "\n"
   ]
  }
 ],
 "metadata": {
  "kernelspec": {
   "display_name": "base",
   "language": "python",
   "name": "python3"
  },
  "language_info": {
   "codemirror_mode": {
    "name": "ipython",
    "version": 3
   },
   "file_extension": ".py",
   "mimetype": "text/x-python",
   "name": "python",
   "nbconvert_exporter": "python",
   "pygments_lexer": "ipython3",
   "version": "3.11.5"
  }
 },
 "nbformat": 4,
 "nbformat_minor": 2
}
