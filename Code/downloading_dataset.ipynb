{
 "cells": [
  {
   "cell_type": "code",
   "execution_count": 1,
   "metadata": {},
   "outputs": [],
   "source": [
    "import numpy as np\n",
    "import ftplib\n",
    "from zipfile import ZipFile\n",
    "\n",
    "import os\n",
    "import gzip\n",
    "import shutil\n",
    "import re\n",
    "\n",
    "from tqdm import tqdm"
   ]
  },
  {
   "cell_type": "code",
   "execution_count": 2,
   "metadata": {},
   "outputs": [],
   "source": [
    "ftp = \"ftp://ftp.ncei.noaa.gov/pub/data/swdi/stormevents/csvfiles/\"\n",
    "hostname = \"ftp.ncei.noaa.gov\"\n",
    "remote_dir = \"pub/data/swdi/stormevents/csvfiles/\"\n",
    "\n",
    "ftp_server = ftplib.FTP(hostname, \"\", \"\")\n",
    "ftp_server.encoding = \"utf-8\""
   ]
  },
  {
   "cell_type": "code",
   "execution_count": 3,
   "metadata": {},
   "outputs": [
    {
     "data": {
      "text/plain": [
       "['data', 'pub', 'welcome.msg', 'has']"
      ]
     },
     "execution_count": 3,
     "metadata": {},
     "output_type": "execute_result"
    }
   ],
   "source": [
    "ftp_server.login()\n",
    "\n",
    "ftp_server.nlst()"
   ]
  },
  {
   "cell_type": "code",
   "execution_count": 4,
   "metadata": {},
   "outputs": [
    {
     "data": {
      "text/plain": [
       "'250-CWD command successful\\n Please read the file README\\n250    it was last modified on Wed May 14 09:54:26 2014 - 3688 days ago'"
      ]
     },
     "execution_count": 4,
     "metadata": {},
     "output_type": "execute_result"
    }
   ],
   "source": [
    "ftp_server.cwd(\"/pub/data/swdi/stormevents/csvfiles/\")"
   ]
  },
  {
   "cell_type": "code",
   "execution_count": 5,
   "metadata": {},
   "outputs": [],
   "source": [
    "files = ftp_server.nlst()"
   ]
  },
  {
   "cell_type": "code",
   "execution_count": 6,
   "metadata": {},
   "outputs": [
    {
     "name": "stdout",
     "output_type": "stream",
     "text": [
      "legacy\n",
      "README\n",
      "Storm-Data-Bulk-csv-Format.pdf\n",
      "StormEvents_details-ftp_v1.0_d2006_c20220425.csv.gz\n",
      "Storm-Data-Export-Format.pdf\n",
      "StormEvents_details-ftp_v1.0_d2014_c20231116.csv.gz\n",
      "StormEvents_details-ftp_v1.0_d1950_c20210803.csv.gz\n",
      "StormEvents_details-ftp_v1.0_d2016_c20220719.csv.gz\n",
      "StormEvents_details-ftp_v1.0_d1951_c20210803.csv.gz\n",
      "StormEvents_fatalities-ftp_v1.0_d1974_c20220425.csv.gz\n",
      "StormEvents_details-ftp_v1.0_d1952_c20210803.csv.gz\n",
      "StormEvents_fatalities-ftp_v1.0_d1973_c20220425.csv.gz\n",
      "StormEvents_details-ftp_v1.0_d1953_c20210803.csv.gz\n",
      "StormEvents_locations-ftp_v1.0_d1973_c20220425.csv.gz\n",
      "StormEvents_details-ftp_v1.0_d1954_c20210803.csv.gz\n",
      "StormEvents_details-ftp_v1.0_d1972_c20220425.csv.gz\n",
      "StormEvents_details-ftp_v1.0_d1955_c20210803.csv.gz\n",
      "StormEvents_fatalities-ftp_v1.0_d1972_c20220425.csv.gz\n",
      "StormEvents_details-ftp_v1.0_d1956_c20210803.csv.gz\n",
      "StormEvents_locations-ftp_v1.0_d1972_c20220425.csv.gz\n",
      "StormEvents_details-ftp_v1.0_d1957_c20210803.csv.gz\n",
      "StormEvents_details-ftp_v1.0_d2022_c20240516.csv.gz\n",
      "StormEvents_details-ftp_v1.0_d1958_c20210803.csv.gz\n",
      "StormEvents_fatalities-ftp_v1.0_d2022_c20240516.csv.gz\n",
      "StormEvents_details-ftp_v1.0_d1959_c20210803.csv.gz\n",
      "StormEvents_locations-ftp_v1.0_d2022_c20240516.csv.gz\n",
      "StormEvents_details-ftp_v1.0_d1960_c20210803.csv.gz\n",
      "StormEvents_details-ftp_v1.0_d2021_c20240418.csv.gz\n",
      "StormEvents_details-ftp_v1.0_d1961_c20210803.csv.gz\n",
      "StormEvents_fatalities-ftp_v1.0_d2021_c20240418.csv.gz\n",
      "StormEvents_details-ftp_v1.0_d1962_c20210803.csv.gz\n",
      "StormEvents_locations-ftp_v1.0_d2021_c20240418.csv.gz\n",
      "StormEvents_details-ftp_v1.0_d1963_c20210803.csv.gz\n",
      "StormEvents_details-ftp_v1.0_d2019_c20240117.csv.gz\n",
      "StormEvents_details-ftp_v1.0_d1964_c20210803.csv.gz\n",
      "StormEvents_fatalities-ftp_v1.0_d2019_c20240117.csv.gz\n",
      "StormEvents_details-ftp_v1.0_d1965_c20210803.csv.gz\n",
      "StormEvents_locations-ftp_v1.0_d2019_c20240117.csv.gz\n",
      "StormEvents_details-ftp_v1.0_d1966_c20210803.csv.gz\n",
      "StormEvents_details-ftp_v1.0_d1994_c20220425.csv.gz\n",
      "StormEvents_details-ftp_v1.0_d1967_c20210803.csv.gz\n",
      "StormEvents_details-ftp_v1.0_d1995_c20220425.csv.gz\n",
      "StormEvents_details-ftp_v1.0_d1968_c20210803.csv.gz\n",
      "StormEvents_details-ftp_v1.0_d1996_c20220425.csv.gz\n",
      "StormEvents_details-ftp_v1.0_d1969_c20210803.csv.gz\n",
      "StormEvents_details-ftp_v1.0_d1997_c20220425.csv.gz\n",
      "StormEvents_details-ftp_v1.0_d1970_c20210803.csv.gz\n",
      "StormEvents_details-ftp_v1.0_d1998_c20220425.csv.gz\n",
      "StormEvents_details-ftp_v1.0_d1971_c20210803.csv.gz\n",
      "StormEvents_details-ftp_v1.0_d1999_c20220425.csv.gz\n",
      "StormEvents_details-ftp_v1.0_d2015_c20220425.csv.gz\n",
      "StormEvents_details-ftp_v1.0_d2000_c20220425.csv.gz\n",
      "StormEvents_details-ftp_v1.0_d2018_c20230616.csv.gz\n",
      "StormEvents_details-ftp_v1.0_d2001_c20220425.csv.gz\n",
      "StormEvents_locations-ftp_v1.0_d1974_c20220425.csv.gz\n",
      "StormEvents_details-ftp_v1.0_d2017_c20230317.csv.gz\n",
      "StormEvents_details-ftp_v1.0_d2002_c20220425.csv.gz\n",
      "StormEvents_details-ftp_v1.0_d1974_c20220425.csv.gz\n",
      "StormEvents_details-ftp_v1.0_d1973_c20220425.csv.gz\n",
      "ugc_areas.csv\n",
      "StormEvents_details-ftp_v1.0_d2008_c20220425.csv.gz\n",
      "StormEvents_details-ftp_v1.0_d1993_c20220425.csv.gz\n",
      "StormEvents_fatalities-ftp_v1.0_d2011_c20230417.csv.gz\n",
      "StormEvents_details-ftp_v1.0_d2005_c20220425.csv.gz\n",
      "StormEvents_fatalities-ftp_v1.0_d2005_c20220425.csv.gz\n",
      "StormEvents_details-ftp_v1.0_d2003_c20220425.csv.gz\n",
      "StormEvents_details-ftp_v1.0_d2007_c20240216.csv.gz\n",
      "StormEvents_details-ftp_v1.0_d2004_c20220425.csv.gz\n",
      "StormEvents_details-ftp_v1.0_d2009_c20231116.csv.gz\n",
      "StormEvents_details-ftp_v1.0_d1992_c20220425.csv.gz\n",
      "StormEvents_details-ftp_v1.0_d2010_c20220425.csv.gz\n",
      "StormEvents_details-ftp_v1.0_d1991_c20220425.csv.gz\n",
      "StormEvents_fatalities-ftp_v1.0_d2012_c20221216.csv.gz\n",
      "StormEvents_details-ftp_v1.0_d2020_c20240418.csv.gz\n",
      "StormEvents_fatalities-ftp_v1.0_d2010_c20220425.csv.gz\n",
      "StormEvents_fatalities-ftp_v1.0_d1950_c20210803.csv.gz\n",
      "StormEvents_fatalities-ftp_v1.0_d1951_c20210803.csv.gz\n",
      "StormEvents_fatalities-ftp_v1.0_d1952_c20210803.csv.gz\n",
      "StormEvents_fatalities-ftp_v1.0_d1953_c20210803.csv.gz\n",
      "StormEvents_fatalities-ftp_v1.0_d1954_c20210803.csv.gz\n",
      "StormEvents_fatalities-ftp_v1.0_d1955_c20210803.csv.gz\n",
      "StormEvents_fatalities-ftp_v1.0_d1956_c20210803.csv.gz\n",
      "StormEvents_fatalities-ftp_v1.0_d1957_c20210803.csv.gz\n",
      "StormEvents_fatalities-ftp_v1.0_d1958_c20210803.csv.gz\n",
      "StormEvents_fatalities-ftp_v1.0_d1959_c20210803.csv.gz\n",
      "StormEvents_fatalities-ftp_v1.0_d1960_c20210803.csv.gz\n",
      "StormEvents_fatalities-ftp_v1.0_d1961_c20210803.csv.gz\n",
      "StormEvents_fatalities-ftp_v1.0_d1962_c20210803.csv.gz\n",
      "StormEvents_fatalities-ftp_v1.0_d1963_c20210803.csv.gz\n",
      "StormEvents_fatalities-ftp_v1.0_d1964_c20210803.csv.gz\n",
      "StormEvents_fatalities-ftp_v1.0_d1965_c20210803.csv.gz\n",
      "StormEvents_fatalities-ftp_v1.0_d1966_c20210803.csv.gz\n",
      "StormEvents_fatalities-ftp_v1.0_d1967_c20210803.csv.gz\n",
      "StormEvents_fatalities-ftp_v1.0_d1968_c20210803.csv.gz\n",
      "StormEvents_fatalities-ftp_v1.0_d1969_c20210803.csv.gz\n",
      "StormEvents_fatalities-ftp_v1.0_d1970_c20210803.csv.gz\n",
      "StormEvents_fatalities-ftp_v1.0_d1971_c20210803.csv.gz\n",
      "StormEvents_fatalities-ftp_v1.0_d2018_c20230616.csv.gz\n",
      "StormEvents_locations-ftp_v1.0_d2018_c20230616.csv.gz\n",
      "StormEvents_fatalities-ftp_v1.0_d2017_c20230317.csv.gz\n",
      "StormEvents_locations-ftp_v1.0_d2017_c20230317.csv.gz\n",
      "StormEvents_fatalities-ftp_v1.0_d2016_c20220719.csv.gz\n",
      "StormEvents_locations-ftp_v1.0_d2016_c20220719.csv.gz\n",
      "StormEvents_fatalities-ftp_v1.0_d2015_c20220425.csv.gz\n",
      "StormEvents_locations-ftp_v1.0_d2015_c20220425.csv.gz\n",
      "StormEvents_fatalities-ftp_v1.0_d2014_c20231116.csv.gz\n",
      "StormEvents_locations-ftp_v1.0_d2014_c20231116.csv.gz\n",
      "StormEvents_details-ftp_v1.0_d2023_c20240516.csv.gz\n",
      "StormEvents_details-ftp_v1.0_d2013_c20230118.csv.gz\n",
      "StormEvents_fatalities-ftp_v1.0_d2013_c20230118.csv.gz\n",
      "StormEvents_locations-ftp_v1.0_d2013_c20230118.csv.gz\n",
      "StormEvents_details-ftp_v1.0_d2012_c20221216.csv.gz\n",
      "StormEvents_locations-ftp_v1.0_d2012_c20221216.csv.gz\n",
      "StormEvents_details-ftp_v1.0_d2011_c20230417.csv.gz\n",
      "StormEvents_locations-ftp_v1.0_d2010_c20220425.csv.gz\n",
      "StormEvents_fatalities-ftp_v1.0_d1985_c20220425.csv.gz\n",
      "StormEvents_locations-ftp_v1.0_d1985_c20220425.csv.gz\n",
      "StormEvents_details-ftp_v1.0_d1984_c20220425.csv.gz\n",
      "StormEvents_fatalities-ftp_v1.0_d1984_c20220425.csv.gz\n",
      "StormEvents_locations-ftp_v1.0_d1984_c20220425.csv.gz\n",
      "StormEvents_details-ftp_v1.0_d1983_c20220425.csv.gz\n",
      "StormEvents_fatalities-ftp_v1.0_d1983_c20220425.csv.gz\n",
      "StormEvents_locations-ftp_v1.0_d1983_c20220425.csv.gz\n",
      "StormEvents_details-ftp_v1.0_d1982_c20220425.csv.gz\n",
      "StormEvents_fatalities-ftp_v1.0_d1982_c20220425.csv.gz\n",
      "StormEvents_locations-ftp_v1.0_d1982_c20220425.csv.gz\n",
      "StormEvents_details-ftp_v1.0_d1981_c20220425.csv.gz\n",
      "StormEvents_fatalities-ftp_v1.0_d1981_c20220425.csv.gz\n",
      "StormEvents_locations-ftp_v1.0_d1981_c20220425.csv.gz\n",
      "StormEvents_details-ftp_v1.0_d1980_c20220425.csv.gz\n",
      "StormEvents_fatalities-ftp_v1.0_d1980_c20220425.csv.gz\n",
      "StormEvents_locations-ftp_v1.0_d1980_c20220425.csv.gz\n",
      "StormEvents_details-ftp_v1.0_d1979_c20220425.csv.gz\n",
      "StormEvents_fatalities-ftp_v1.0_d1979_c20220425.csv.gz\n",
      "StormEvents_locations-ftp_v1.0_d1979_c20220425.csv.gz\n",
      "StormEvents_details-ftp_v1.0_d1978_c20220425.csv.gz\n",
      "StormEvents_fatalities-ftp_v1.0_d1978_c20220425.csv.gz\n",
      "StormEvents_locations-ftp_v1.0_d1978_c20220425.csv.gz\n",
      "StormEvents_details-ftp_v1.0_d1977_c20220425.csv.gz\n",
      "StormEvents_fatalities-ftp_v1.0_d1977_c20220425.csv.gz\n",
      "StormEvents_locations-ftp_v1.0_d1977_c20220425.csv.gz\n",
      "StormEvents_details-ftp_v1.0_d1976_c20220425.csv.gz\n",
      "StormEvents_fatalities-ftp_v1.0_d1976_c20220425.csv.gz\n",
      "StormEvents_locations-ftp_v1.0_d1976_c20220425.csv.gz\n",
      "StormEvents_details-ftp_v1.0_d1975_c20220425.csv.gz\n",
      "StormEvents_fatalities-ftp_v1.0_d1975_c20220425.csv.gz\n",
      "StormEvents_locations-ftp_v1.0_d1975_c20220425.csv.gz\n",
      "StormEvents_locations-ftp_v1.0_d2011_c20230417.csv.gz\n",
      "StormEvents_locations-ftp_v1.0_d2007_c20240216.csv.gz\n",
      "StormEvents_locations-ftp_v1.0_d2023_c20240516.csv.gz\n",
      "StormEvents_fatalities-ftp_v1.0_d2009_c20231116.csv.gz\n",
      "StormEvents_locations-ftp_v1.0_d2009_c20231116.csv.gz\n",
      "StormEvents_fatalities-ftp_v1.0_d2020_c20240418.csv.gz\n",
      "StormEvents_locations-ftp_v1.0_d2020_c20240418.csv.gz\n",
      "StormEvents_details-ftp_v1.0_d2024_c20240516.csv.gz\n",
      "StormEvents_fatalities-ftp_v1.0_d2024_c20240516.csv.gz\n",
      "StormEvents_fatalities-ftp_v1.0_d2007_c20240216.csv.gz\n",
      "StormEvents_fatalities-ftp_v1.0_d2023_c20240516.csv.gz\n",
      "StormEvents_locations-ftp_v1.0_d2024_c20240516.csv.gz\n",
      "StormEvents_fatalities-ftp_v1.0_d2008_c20220425.csv.gz\n",
      "StormEvents_locations-ftp_v1.0_d2008_c20220425.csv.gz\n",
      "StormEvents_fatalities-ftp_v1.0_d2006_c20220425.csv.gz\n",
      "StormEvents_locations-ftp_v1.0_d2006_c20220425.csv.gz\n",
      "StormEvents_locations-ftp_v1.0_d2005_c20220425.csv.gz\n",
      "StormEvents_fatalities-ftp_v1.0_d2004_c20220425.csv.gz\n",
      "StormEvents_locations-ftp_v1.0_d2004_c20220425.csv.gz\n",
      "StormEvents_fatalities-ftp_v1.0_d2003_c20220425.csv.gz\n",
      "StormEvents_locations-ftp_v1.0_d2003_c20220425.csv.gz\n",
      "StormEvents_fatalities-ftp_v1.0_d2002_c20220425.csv.gz\n",
      "StormEvents_locations-ftp_v1.0_d2002_c20220425.csv.gz\n",
      "StormEvents_fatalities-ftp_v1.0_d2001_c20220425.csv.gz\n",
      "StormEvents_locations-ftp_v1.0_d2001_c20220425.csv.gz\n",
      "StormEvents_fatalities-ftp_v1.0_d2000_c20220425.csv.gz\n",
      "StormEvents_locations-ftp_v1.0_d2000_c20220425.csv.gz\n",
      "StormEvents_fatalities-ftp_v1.0_d1999_c20220425.csv.gz\n",
      "StormEvents_locations-ftp_v1.0_d1999_c20220425.csv.gz\n",
      "StormEvents_fatalities-ftp_v1.0_d1998_c20220425.csv.gz\n",
      "StormEvents_locations-ftp_v1.0_d1998_c20220425.csv.gz\n",
      "StormEvents_fatalities-ftp_v1.0_d1997_c20220425.csv.gz\n",
      "StormEvents_locations-ftp_v1.0_d1997_c20220425.csv.gz\n",
      "StormEvents_fatalities-ftp_v1.0_d1996_c20220425.csv.gz\n",
      "StormEvents_locations-ftp_v1.0_d1996_c20220425.csv.gz\n",
      "StormEvents_fatalities-ftp_v1.0_d1995_c20220425.csv.gz\n",
      "StormEvents_locations-ftp_v1.0_d1995_c20220425.csv.gz\n",
      "StormEvents_fatalities-ftp_v1.0_d1994_c20220425.csv.gz\n",
      "StormEvents_locations-ftp_v1.0_d1994_c20220425.csv.gz\n",
      "StormEvents_fatalities-ftp_v1.0_d1993_c20220425.csv.gz\n",
      "StormEvents_locations-ftp_v1.0_d1993_c20220425.csv.gz\n",
      "StormEvents_fatalities-ftp_v1.0_d1992_c20220425.csv.gz\n",
      "StormEvents_locations-ftp_v1.0_d1992_c20220425.csv.gz\n",
      "StormEvents_fatalities-ftp_v1.0_d1991_c20220425.csv.gz\n",
      "StormEvents_locations-ftp_v1.0_d1991_c20220425.csv.gz\n",
      "StormEvents_fatalities-ftp_v1.0_d1990_c20220425.csv.gz\n",
      "StormEvents_details-ftp_v1.0_d1989_c20220425.csv.gz\n",
      "StormEvents_locations-ftp_v1.0_d1989_c20220425.csv.gz\n",
      "StormEvents_fatalities-ftp_v1.0_d1988_c20220425.csv.gz\n",
      "StormEvents_details-ftp_v1.0_d1987_c20220425.csv.gz\n",
      "StormEvents_locations-ftp_v1.0_d1987_c20220425.csv.gz\n",
      "StormEvents_fatalities-ftp_v1.0_d1986_c20220425.csv.gz\n",
      "StormEvents_details-ftp_v1.0_d1985_c20220425.csv.gz\n",
      "StormEvents_details-ftp_v1.0_d1990_c20220425.csv.gz\n",
      "StormEvents_locations-ftp_v1.0_d1990_c20220425.csv.gz\n",
      "StormEvents_fatalities-ftp_v1.0_d1989_c20220425.csv.gz\n",
      "StormEvents_details-ftp_v1.0_d1988_c20220425.csv.gz\n",
      "StormEvents_locations-ftp_v1.0_d1988_c20220425.csv.gz\n",
      "StormEvents_fatalities-ftp_v1.0_d1987_c20220425.csv.gz\n",
      "StormEvents_details-ftp_v1.0_d1986_c20220425.csv.gz\n",
      "StormEvents_locations-ftp_v1.0_d1986_c20220425.csv.gz\n"
     ]
    }
   ],
   "source": [
    "for file in files:\n",
    "    print(file)"
   ]
  },
  {
   "cell_type": "code",
   "execution_count": 7,
   "metadata": {},
   "outputs": [
    {
     "data": {
      "text/plain": [
       "'StormEvents_details-ftp_v1.0_d1950_c20210803.csv.gz'"
      ]
     },
     "execution_count": 7,
     "metadata": {},
     "output_type": "execute_result"
    }
   ],
   "source": [
    "files[6]"
   ]
  },
  {
   "cell_type": "code",
   "execution_count": 7,
   "metadata": {},
   "outputs": [
    {
     "name": "stderr",
     "output_type": "stream",
     "text": [
      "100%|██████████| 208/208 [08:36<00:00,  2.49s/it]\n"
     ]
    }
   ],
   "source": [
    "for file in tqdm(files):\n",
    "    if file != \"legacy\":\n",
    "        # print(file)\n",
    "        ftp_server.retrbinary('RETR {}'.format(file), open(\"./NOAA_Storm_events_dataset_zip/{}\".format(file), \"wb\").write)\n",
    "        if \".gz\" in file:\n",
    "            with gzip.open(\"./NOAA_Storm_events_dataset_zip/{}\".format(file), 'rb') as file_in:\n",
    "                with open(re.sub(\".gz\", \"\", \"./NOAA_Storm_events_dataset/{}\".format(file)), 'wb') as file_out:\n",
    "                    shutil.copyfileobj(file_in, file_out)\n",
    "        else:\n",
    "            with open(\"./NOAA_Storm_events_dataset_zip/{}\".format(file), 'rb') as file_in:\n",
    "                with open(re.sub(\".gz\", \"\", \"./NOAA_Storm_events_dataset/{}\".format(file)), 'wb') as file_out:\n",
    "                    shutil.copyfileobj(file_in, file_out)\n",
    "        os.remove(\"./NOAA_Storm_events_dataset_zip/{}\".format(file))\n",
    "\n"
   ]
  },
  {
   "cell_type": "code",
   "execution_count": 8,
   "metadata": {},
   "outputs": [
    {
     "data": {
      "text/plain": [
       "'221 Goodbye.'"
      ]
     },
     "execution_count": 8,
     "metadata": {},
     "output_type": "execute_result"
    }
   ],
   "source": [
    "ftp_server.quit()"
   ]
  }
 ],
 "metadata": {
  "kernelspec": {
   "display_name": "base",
   "language": "python",
   "name": "python3"
  },
  "language_info": {
   "codemirror_mode": {
    "name": "ipython",
    "version": 3
   },
   "file_extension": ".py",
   "mimetype": "text/x-python",
   "name": "python",
   "nbconvert_exporter": "python",
   "pygments_lexer": "ipython3",
   "version": "3.11.5"
  }
 },
 "nbformat": 4,
 "nbformat_minor": 2
}
